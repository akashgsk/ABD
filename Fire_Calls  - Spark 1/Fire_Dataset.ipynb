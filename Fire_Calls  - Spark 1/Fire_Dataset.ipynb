{
  "nbformat": 4,
  "nbformat_minor": 0,
  "metadata": {
    "colab": {
      "provenance": []
    },
    "kernelspec": {
      "name": "python3",
      "display_name": "Python 3"
    },
    "language_info": {
      "name": "python"
    }
  },
  "cells": [
    {
      "cell_type": "code",
      "source": [
        "!pip install pyspark"
      ],
      "metadata": {
        "colab": {
          "base_uri": "https://localhost:8080/"
        },
        "id": "iAb7PAC684gF",
        "outputId": "3bcae010-e502-4ca5-9f60-b70b25111126"
      },
      "execution_count": 48,
      "outputs": [
        {
          "output_type": "stream",
          "name": "stdout",
          "text": [
            "Requirement already satisfied: pyspark in /usr/local/lib/python3.10/dist-packages (3.5.0)\n",
            "Requirement already satisfied: py4j==0.10.9.7 in /usr/local/lib/python3.10/dist-packages (from pyspark) (0.10.9.7)\n"
          ]
        }
      ]
    },
    {
      "cell_type": "code",
      "execution_count": 49,
      "metadata": {
        "id": "TcjggE5K8LNo"
      },
      "outputs": [],
      "source": [
        "import pyspark\n",
        "from pyspark.sql import SparkSession\n",
        "spark = SparkSession.builder.appName('Fire DF').getOrCreate()"
      ]
    },
    {
      "cell_type": "code",
      "source": [
        "from pyspark.sql.functions import *\n",
        "from pyspark.sql.types import *"
      ],
      "metadata": {
        "id": "7Q5kTwOf8phu"
      },
      "execution_count": 50,
      "outputs": []
    },
    {
      "cell_type": "code",
      "source": [
        "df = spark.read.csv(\"sf-fire-calls.csv\",header=True,inferSchema=True)\n",
        "df.show()\n",
        "df.printSchema()"
      ],
      "metadata": {
        "colab": {
          "base_uri": "https://localhost:8080/"
        },
        "id": "RlnXZaeL9ADv",
        "outputId": "cbf9c74e-6254-4ac2-f6d7-c5e0ad4e3301"
      },
      "execution_count": 51,
      "outputs": [
        {
          "output_type": "stream",
          "name": "stdout",
          "text": [
            "+----------+------+--------------+----------------+----------+----------+--------------------+--------------------+--------------------+----+-------+---------+-----------+----+----------------+--------+-------------+-------+-------------+---------+--------------+--------------------------+----------------------+------------------+--------------------+--------------------+-------------+---------+\n",
            "|CallNumber|UnitID|IncidentNumber|        CallType|  CallDate| WatchDate|CallFinalDisposition|       AvailableDtTm|             Address|City|Zipcode|Battalion|StationArea| Box|OriginalPriority|Priority|FinalPriority|ALSUnit|CallTypeGroup|NumAlarms|      UnitType|UnitSequenceInCallDispatch|FirePreventionDistrict|SupervisorDistrict|        Neighborhood|            Location|        RowID|    Delay|\n",
            "+----------+------+--------------+----------------+----------+----------+--------------------+--------------------+--------------------+----+-------+---------+-----------+----+----------------+--------+-------------+-------+-------------+---------+--------------+--------------------------+----------------------+------------------+--------------------+--------------------+-------------+---------+\n",
            "|  20110016|   T13|       2003235|  Structure Fire|01/11/2002|01/10/2002|               Other|01/11/2002 01:51:...|2000 Block of CAL...|  SF|  94109|      B04|         38|3362|               3|       3|            3|  false|         NULL|        1|         TRUCK|                         2|                     4|                 5|     Pacific Heights|(37.7895840679362...|020110016-T13|     2.95|\n",
            "|  20110022|   M17|       2003241|Medical Incident|01/11/2002|01/10/2002|               Other|01/11/2002 03:01:...|0 Block of SILVER...|  SF|  94124|      B10|         42|6495|               3|       3|            3|   true|         NULL|        1|         MEDIC|                         1|                    10|                10|Bayview Hunters P...|(37.7337623673897...|020110022-M17|      4.7|\n",
            "|  20110023|   M41|       2003242|Medical Incident|01/11/2002|01/10/2002|               Other|01/11/2002 02:39:...|MARKET ST/MCALLIS...|  SF|  94102|      B03|         01|1455|               3|       3|            3|   true|         NULL|        1|         MEDIC|                         2|                     3|                 6|          Tenderloin|(37.7811772186856...|020110023-M41|2.4333334|\n",
            "|  20110032|   E11|       2003250|    Vehicle Fire|01/11/2002|01/10/2002|               Other|01/11/2002 04:16:...|APPLETON AV/MISSI...|  SF|  94110|      B06|         32|5626|               3|       3|            3|  false|         NULL|        1|        ENGINE|                         1|                     6|                 9|      Bernal Heights|(37.7388432849018...|020110032-E11|      1.5|\n",
            "|  20110043|   B04|       2003259|          Alarms|01/11/2002|01/10/2002|               Other|01/11/2002 06:01:...|1400 Block of SUT...|  SF|  94109|      B04|         03|3223|               3|       3|            3|  false|         NULL|        1|         CHIEF|                         2|                     4|                 2|    Western Addition|(37.7872890372638...|020110043-B04|3.4833333|\n",
            "|  20110072|   T08|       2003279|  Structure Fire|01/11/2002|01/11/2002|               Other|01/11/2002 08:03:...|  BEALE ST/FOLSOM ST|  SF|  94105|      B03|         35|2122|               3|       3|            3|  false|         NULL|        1|         TRUCK|                         2|                     3|                 6|Financial Distric...|(37.7886866619654...|020110072-T08|     1.75|\n",
            "|  20110125|   E33|       2003301|          Alarms|01/11/2002|01/11/2002|               Other|01/11/2002 09:46:...|0 Block of FARALL...|  SF|  94112|      B09|         33|8324|               3|       3|            3|  false|         NULL|        1|        ENGINE|                         2|                     9|                11|Oceanview/Merced/...|(37.7140353531157...|020110125-E33|2.7166667|\n",
            "|  20110130|   E36|       2003304|          Alarms|01/11/2002|01/11/2002|               Other|01/11/2002 09:58:...|600 Block of POLK ST|  SF|  94102|      B02|         03|3114|               3|       3|            3|  false|         NULL|        1|        ENGINE|                         1|                     2|                 6|          Tenderloin|(37.7826266328595...|020110130-E36|1.7833333|\n",
            "|  20110197|   E05|       2003343|Medical Incident|01/11/2002|01/11/2002|               Other|01/11/2002 12:06:...|1500 Block of WEB...|  SF|  94115|      B04|         05|3513|               3|       3|            3|  false|         NULL|        1|        ENGINE|                         1|                     4|                 5|           Japantown|(37.784958590666,...|020110197-E05|1.5166667|\n",
            "|  20110215|   E06|       2003348|Medical Incident|01/11/2002|01/11/2002|               Other|01/11/2002 01:08:...|DIAMOND ST/MARKET ST|  SF|  94114|      B05|         06|5415|               3|       3|            3|  false|         NULL|        1|        ENGINE|                         1|                     5|                 8| Castro/Upper Market|(37.7618954753708...|020110215-E06|2.7666667|\n",
            "|  20110274|   M07|       2003381|Medical Incident|01/11/2002|01/11/2002|               Other|01/11/2002 03:31:...|2700 Block of MIS...|  SF|  94110|      B06|         11|5525|               1|       1|            2|   true|         NULL|        1|         MEDIC|                         1|                     6|                 9|             Mission|(37.7530339738059...|020110274-M07|2.1833334|\n",
            "|  20110275|   T15|       2003382|  Structure Fire|01/11/2002|01/11/2002|               Other|01/11/2002 02:59:...|BRUNSWICK ST/GUTT...|  SF|  94112|      B09|         43|6218|               3|       3|            3|  false|         NULL|        1|         TRUCK|                         1|                     9|                11|           Excelsior|(37.7105545807996...|020110275-T15|      2.5|\n",
            "|  20110304|   E03|       2003399|Medical Incident|01/11/2002|01/11/2002|               Other|01/11/2002 04:22:...|1000 Block of SUT...|  SF|  94109|      B04|         03|1557|               3|       3|            3|  false|         NULL|        1|        ENGINE|                         1|                     4|                 3|            Nob Hill|(37.7881263034393...|020110304-E03|2.4166667|\n",
            "|  20110308|   E14|       2003403|Medical Incident|01/11/2002|01/11/2002|               Other|01/11/2002 04:18:...|100 Block of 21ST...|  SF|  94121|      B07|         14|7173|               3|       3|            3|  false|         NULL|        1|        ENGINE|                         1|                     7|                 1|      Outer Richmond|(37.7850084431077...|020110308-E14|     4.95|\n",
            "|  20110313|   B10|       2003408|  Structure Fire|01/11/2002|01/11/2002|               Other|01/11/2002 04:09:...|700 Block of CAPP ST|  SF|  94110|      B06|         07|5472|               3|       3|            3|  false|         NULL|        1|         CHIEF|                         6|                     6|                 9|             Mission|(37.7547064357942...|020110313-B10|1.4166666|\n",
            "|  20110313|    D3|       2003408|  Structure Fire|01/11/2002|01/11/2002|               Other|01/11/2002 04:09:...|700 Block of CAPP ST|  SF|  94110|      B06|         07|5472|               3|       3|            3|  false|         NULL|        1|         CHIEF|                         4|                     6|                 9|             Mission|(37.7547064357942...| 020110313-D3|2.5333333|\n",
            "|  20110313|   E32|       2003408|  Structure Fire|01/11/2002|01/11/2002|               Other|01/11/2002 04:09:...|700 Block of CAPP ST|  SF|  94110|      B06|         07|5472|               3|       3|            3|   true|         NULL|        1|        ENGINE|                         8|                     6|                 9|             Mission|(37.7547064357942...|020110313-E32|1.8833333|\n",
            "|  20110315|   RC2|       2003409|Medical Incident|01/11/2002|01/11/2002|               Other|01/11/2002 04:34:...|200 Block of LAGU...|  SF|  94116|      B08|         20|8635|               3|       3|            3|   true|         NULL|        1|RESCUE CAPTAIN|                         2|                     8|                 7|  West of Twin Peaks|(37.7501117393668...|020110315-RC2|     5.35|\n",
            "|  20110330|   E14|       2003417|Medical Incident|01/11/2002|01/11/2002|               Other|01/11/2002 04:51:...|BALBOA ST/PARK PR...|  SF|  94118|      B07|         31|7145|               3|       3|            3|  false|         NULL|        1|        ENGINE|                         1|                     7|                 1|      Inner Richmond|(37.7768682293368...|020110330-E14|      2.0|\n",
            "|  20110330|   M12|       2003417|Medical Incident|01/11/2002|01/11/2002|               Other|01/11/2002 04:51:...|BALBOA ST/PARK PR...|  SF|  94118|      B07|         31|7145|               3|       3|            3|   true|         NULL|        1|         MEDIC|                         2|                     7|                 1|      Inner Richmond|(37.7768682293368...|020110330-M12|1.8166667|\n",
            "+----------+------+--------------+----------------+----------+----------+--------------------+--------------------+--------------------+----+-------+---------+-----------+----+----------------+--------+-------------+-------+-------------+---------+--------------+--------------------------+----------------------+------------------+--------------------+--------------------+-------------+---------+\n",
            "only showing top 20 rows\n",
            "\n",
            "root\n",
            " |-- CallNumber: integer (nullable = true)\n",
            " |-- UnitID: string (nullable = true)\n",
            " |-- IncidentNumber: integer (nullable = true)\n",
            " |-- CallType: string (nullable = true)\n",
            " |-- CallDate: string (nullable = true)\n",
            " |-- WatchDate: string (nullable = true)\n",
            " |-- CallFinalDisposition: string (nullable = true)\n",
            " |-- AvailableDtTm: string (nullable = true)\n",
            " |-- Address: string (nullable = true)\n",
            " |-- City: string (nullable = true)\n",
            " |-- Zipcode: integer (nullable = true)\n",
            " |-- Battalion: string (nullable = true)\n",
            " |-- StationArea: string (nullable = true)\n",
            " |-- Box: string (nullable = true)\n",
            " |-- OriginalPriority: string (nullable = true)\n",
            " |-- Priority: string (nullable = true)\n",
            " |-- FinalPriority: integer (nullable = true)\n",
            " |-- ALSUnit: boolean (nullable = true)\n",
            " |-- CallTypeGroup: string (nullable = true)\n",
            " |-- NumAlarms: integer (nullable = true)\n",
            " |-- UnitType: string (nullable = true)\n",
            " |-- UnitSequenceInCallDispatch: integer (nullable = true)\n",
            " |-- FirePreventionDistrict: string (nullable = true)\n",
            " |-- SupervisorDistrict: string (nullable = true)\n",
            " |-- Neighborhood: string (nullable = true)\n",
            " |-- Location: string (nullable = true)\n",
            " |-- RowID: string (nullable = true)\n",
            " |-- Delay: double (nullable = true)\n",
            "\n"
          ]
        }
      ]
    },
    {
      "cell_type": "code",
      "source": [
        "df1 = df.select(\"CallType\",\"CallDate\",\"City\",\"Zipcode\",\"Neighborhood\",\"Delay\")\n",
        "df1.show()"
      ],
      "metadata": {
        "colab": {
          "base_uri": "https://localhost:8080/"
        },
        "id": "V8AyhJZF-W1j",
        "outputId": "d666fb71-8a50-4fa8-f469-22df89b1ae9b"
      },
      "execution_count": 52,
      "outputs": [
        {
          "output_type": "stream",
          "name": "stdout",
          "text": [
            "+----------------+----------+----+-------+--------------------+---------+\n",
            "|        CallType|  CallDate|City|Zipcode|        Neighborhood|    Delay|\n",
            "+----------------+----------+----+-------+--------------------+---------+\n",
            "|  Structure Fire|01/11/2002|  SF|  94109|     Pacific Heights|     2.95|\n",
            "|Medical Incident|01/11/2002|  SF|  94124|Bayview Hunters P...|      4.7|\n",
            "|Medical Incident|01/11/2002|  SF|  94102|          Tenderloin|2.4333334|\n",
            "|    Vehicle Fire|01/11/2002|  SF|  94110|      Bernal Heights|      1.5|\n",
            "|          Alarms|01/11/2002|  SF|  94109|    Western Addition|3.4833333|\n",
            "|  Structure Fire|01/11/2002|  SF|  94105|Financial Distric...|     1.75|\n",
            "|          Alarms|01/11/2002|  SF|  94112|Oceanview/Merced/...|2.7166667|\n",
            "|          Alarms|01/11/2002|  SF|  94102|          Tenderloin|1.7833333|\n",
            "|Medical Incident|01/11/2002|  SF|  94115|           Japantown|1.5166667|\n",
            "|Medical Incident|01/11/2002|  SF|  94114| Castro/Upper Market|2.7666667|\n",
            "|Medical Incident|01/11/2002|  SF|  94110|             Mission|2.1833334|\n",
            "|  Structure Fire|01/11/2002|  SF|  94112|           Excelsior|      2.5|\n",
            "|Medical Incident|01/11/2002|  SF|  94109|            Nob Hill|2.4166667|\n",
            "|Medical Incident|01/11/2002|  SF|  94121|      Outer Richmond|     4.95|\n",
            "|  Structure Fire|01/11/2002|  SF|  94110|             Mission|1.4166666|\n",
            "|  Structure Fire|01/11/2002|  SF|  94110|             Mission|2.5333333|\n",
            "|  Structure Fire|01/11/2002|  SF|  94110|             Mission|1.8833333|\n",
            "|Medical Incident|01/11/2002|  SF|  94116|  West of Twin Peaks|     5.35|\n",
            "|Medical Incident|01/11/2002|  SF|  94118|      Inner Richmond|      2.0|\n",
            "|Medical Incident|01/11/2002|  SF|  94118|      Inner Richmond|1.8166667|\n",
            "+----------------+----------+----+-------+--------------------+---------+\n",
            "only showing top 20 rows\n",
            "\n"
          ]
        }
      ]
    },
    {
      "cell_type": "code",
      "source": [
        "df1.withColumn(\"Date\",to_date(col(\"CallDate\"),\"dd/MM/yyyy\")).show()"
      ],
      "metadata": {
        "colab": {
          "base_uri": "https://localhost:8080/"
        },
        "id": "w-Oogw5Y_kYx",
        "outputId": "81d4012e-ae79-4cdc-a3c0-e58bc5e37942"
      },
      "execution_count": 53,
      "outputs": [
        {
          "output_type": "stream",
          "name": "stdout",
          "text": [
            "+----------------+----------+----+-------+--------------------+---------+----------+\n",
            "|        CallType|  CallDate|City|Zipcode|        Neighborhood|    Delay|      Date|\n",
            "+----------------+----------+----+-------+--------------------+---------+----------+\n",
            "|  Structure Fire|01/11/2002|  SF|  94109|     Pacific Heights|     2.95|2002-11-01|\n",
            "|Medical Incident|01/11/2002|  SF|  94124|Bayview Hunters P...|      4.7|2002-11-01|\n",
            "|Medical Incident|01/11/2002|  SF|  94102|          Tenderloin|2.4333334|2002-11-01|\n",
            "|    Vehicle Fire|01/11/2002|  SF|  94110|      Bernal Heights|      1.5|2002-11-01|\n",
            "|          Alarms|01/11/2002|  SF|  94109|    Western Addition|3.4833333|2002-11-01|\n",
            "|  Structure Fire|01/11/2002|  SF|  94105|Financial Distric...|     1.75|2002-11-01|\n",
            "|          Alarms|01/11/2002|  SF|  94112|Oceanview/Merced/...|2.7166667|2002-11-01|\n",
            "|          Alarms|01/11/2002|  SF|  94102|          Tenderloin|1.7833333|2002-11-01|\n",
            "|Medical Incident|01/11/2002|  SF|  94115|           Japantown|1.5166667|2002-11-01|\n",
            "|Medical Incident|01/11/2002|  SF|  94114| Castro/Upper Market|2.7666667|2002-11-01|\n",
            "|Medical Incident|01/11/2002|  SF|  94110|             Mission|2.1833334|2002-11-01|\n",
            "|  Structure Fire|01/11/2002|  SF|  94112|           Excelsior|      2.5|2002-11-01|\n",
            "|Medical Incident|01/11/2002|  SF|  94109|            Nob Hill|2.4166667|2002-11-01|\n",
            "|Medical Incident|01/11/2002|  SF|  94121|      Outer Richmond|     4.95|2002-11-01|\n",
            "|  Structure Fire|01/11/2002|  SF|  94110|             Mission|1.4166666|2002-11-01|\n",
            "|  Structure Fire|01/11/2002|  SF|  94110|             Mission|2.5333333|2002-11-01|\n",
            "|  Structure Fire|01/11/2002|  SF|  94110|             Mission|1.8833333|2002-11-01|\n",
            "|Medical Incident|01/11/2002|  SF|  94116|  West of Twin Peaks|     5.35|2002-11-01|\n",
            "|Medical Incident|01/11/2002|  SF|  94118|      Inner Richmond|      2.0|2002-11-01|\n",
            "|Medical Incident|01/11/2002|  SF|  94118|      Inner Richmond|1.8166667|2002-11-01|\n",
            "+----------------+----------+----+-------+--------------------+---------+----------+\n",
            "only showing top 20 rows\n",
            "\n"
          ]
        }
      ]
    },
    {
      "cell_type": "code",
      "source": [
        "df2 = df1.withColumn(\"Date\",to_date(col(\"CallDate\"),\"MM/dd/yyyy\")).drop(\"CallDate\")\n",
        "df2.show()"
      ],
      "metadata": {
        "colab": {
          "base_uri": "https://localhost:8080/"
        },
        "id": "OrRG3FD5BAxq",
        "outputId": "ba53ef73-7089-488a-d499-7e74a9b0619d"
      },
      "execution_count": 54,
      "outputs": [
        {
          "output_type": "stream",
          "name": "stdout",
          "text": [
            "+----------------+----+-------+--------------------+---------+----------+\n",
            "|        CallType|City|Zipcode|        Neighborhood|    Delay|      Date|\n",
            "+----------------+----+-------+--------------------+---------+----------+\n",
            "|  Structure Fire|  SF|  94109|     Pacific Heights|     2.95|2002-01-11|\n",
            "|Medical Incident|  SF|  94124|Bayview Hunters P...|      4.7|2002-01-11|\n",
            "|Medical Incident|  SF|  94102|          Tenderloin|2.4333334|2002-01-11|\n",
            "|    Vehicle Fire|  SF|  94110|      Bernal Heights|      1.5|2002-01-11|\n",
            "|          Alarms|  SF|  94109|    Western Addition|3.4833333|2002-01-11|\n",
            "|  Structure Fire|  SF|  94105|Financial Distric...|     1.75|2002-01-11|\n",
            "|          Alarms|  SF|  94112|Oceanview/Merced/...|2.7166667|2002-01-11|\n",
            "|          Alarms|  SF|  94102|          Tenderloin|1.7833333|2002-01-11|\n",
            "|Medical Incident|  SF|  94115|           Japantown|1.5166667|2002-01-11|\n",
            "|Medical Incident|  SF|  94114| Castro/Upper Market|2.7666667|2002-01-11|\n",
            "|Medical Incident|  SF|  94110|             Mission|2.1833334|2002-01-11|\n",
            "|  Structure Fire|  SF|  94112|           Excelsior|      2.5|2002-01-11|\n",
            "|Medical Incident|  SF|  94109|            Nob Hill|2.4166667|2002-01-11|\n",
            "|Medical Incident|  SF|  94121|      Outer Richmond|     4.95|2002-01-11|\n",
            "|  Structure Fire|  SF|  94110|             Mission|1.4166666|2002-01-11|\n",
            "|  Structure Fire|  SF|  94110|             Mission|2.5333333|2002-01-11|\n",
            "|  Structure Fire|  SF|  94110|             Mission|1.8833333|2002-01-11|\n",
            "|Medical Incident|  SF|  94116|  West of Twin Peaks|     5.35|2002-01-11|\n",
            "|Medical Incident|  SF|  94118|      Inner Richmond|      2.0|2002-01-11|\n",
            "|Medical Incident|  SF|  94118|      Inner Richmond|1.8166667|2002-01-11|\n",
            "+----------------+----+-------+--------------------+---------+----------+\n",
            "only showing top 20 rows\n",
            "\n"
          ]
        }
      ]
    },
    {
      "cell_type": "code",
      "source": [
        "df3 = df2.withColumn(\"Year\",year(col(\"Date\")))\\\n",
        "         .withColumn(\"Month\",month(col(\"Date\")))\\\n",
        "         .withColumn(\"Week\",weekofyear(col(\"Date\")))\n",
        "\n",
        "df3.show()"
      ],
      "metadata": {
        "colab": {
          "base_uri": "https://localhost:8080/"
        },
        "id": "NEVJAZzFB5H2",
        "outputId": "50486eca-5deb-4163-c5a3-780262b32e42"
      },
      "execution_count": 55,
      "outputs": [
        {
          "output_type": "stream",
          "name": "stdout",
          "text": [
            "+----------------+----+-------+--------------------+---------+----------+----+-----+----+\n",
            "|        CallType|City|Zipcode|        Neighborhood|    Delay|      Date|Year|Month|Week|\n",
            "+----------------+----+-------+--------------------+---------+----------+----+-----+----+\n",
            "|  Structure Fire|  SF|  94109|     Pacific Heights|     2.95|2002-01-11|2002|    1|   2|\n",
            "|Medical Incident|  SF|  94124|Bayview Hunters P...|      4.7|2002-01-11|2002|    1|   2|\n",
            "|Medical Incident|  SF|  94102|          Tenderloin|2.4333334|2002-01-11|2002|    1|   2|\n",
            "|    Vehicle Fire|  SF|  94110|      Bernal Heights|      1.5|2002-01-11|2002|    1|   2|\n",
            "|          Alarms|  SF|  94109|    Western Addition|3.4833333|2002-01-11|2002|    1|   2|\n",
            "|  Structure Fire|  SF|  94105|Financial Distric...|     1.75|2002-01-11|2002|    1|   2|\n",
            "|          Alarms|  SF|  94112|Oceanview/Merced/...|2.7166667|2002-01-11|2002|    1|   2|\n",
            "|          Alarms|  SF|  94102|          Tenderloin|1.7833333|2002-01-11|2002|    1|   2|\n",
            "|Medical Incident|  SF|  94115|           Japantown|1.5166667|2002-01-11|2002|    1|   2|\n",
            "|Medical Incident|  SF|  94114| Castro/Upper Market|2.7666667|2002-01-11|2002|    1|   2|\n",
            "|Medical Incident|  SF|  94110|             Mission|2.1833334|2002-01-11|2002|    1|   2|\n",
            "|  Structure Fire|  SF|  94112|           Excelsior|      2.5|2002-01-11|2002|    1|   2|\n",
            "|Medical Incident|  SF|  94109|            Nob Hill|2.4166667|2002-01-11|2002|    1|   2|\n",
            "|Medical Incident|  SF|  94121|      Outer Richmond|     4.95|2002-01-11|2002|    1|   2|\n",
            "|  Structure Fire|  SF|  94110|             Mission|1.4166666|2002-01-11|2002|    1|   2|\n",
            "|  Structure Fire|  SF|  94110|             Mission|2.5333333|2002-01-11|2002|    1|   2|\n",
            "|  Structure Fire|  SF|  94110|             Mission|1.8833333|2002-01-11|2002|    1|   2|\n",
            "|Medical Incident|  SF|  94116|  West of Twin Peaks|     5.35|2002-01-11|2002|    1|   2|\n",
            "|Medical Incident|  SF|  94118|      Inner Richmond|      2.0|2002-01-11|2002|    1|   2|\n",
            "|Medical Incident|  SF|  94118|      Inner Richmond|1.8166667|2002-01-11|2002|    1|   2|\n",
            "+----------------+----+-------+--------------------+---------+----------+----+-----+----+\n",
            "only showing top 20 rows\n",
            "\n"
          ]
        }
      ]
    },
    {
      "cell_type": "code",
      "source": [
        "# Create a user defined function(UDF)\n",
        "\n",
        "def mapSeason(data):\n",
        "  if 2 < data < 6:\n",
        "    return \"Spring\"\n",
        "  elif 5 < data < 9:\n",
        "    return \"Summer\"\n",
        "  elif 8 < data < 12:\n",
        "    return \"Autumn\"\n",
        "  else:\n",
        "    return \"Winter\"\n",
        "\n",
        "seasonUDF = udf(mapSeason,StringType())\n",
        "clean_udf = df3.withColumn(\"Season\",seasonUDF(col(\"Month\")))\n",
        "clean_udf.show()\n"
      ],
      "metadata": {
        "colab": {
          "base_uri": "https://localhost:8080/"
        },
        "id": "I3OipvjqDhYB",
        "outputId": "2ade0773-0de8-46b4-933c-806d6bafff8a"
      },
      "execution_count": 56,
      "outputs": [
        {
          "output_type": "stream",
          "name": "stdout",
          "text": [
            "+----------------+----+-------+--------------------+---------+----------+----+-----+----+------+\n",
            "|        CallType|City|Zipcode|        Neighborhood|    Delay|      Date|Year|Month|Week|Season|\n",
            "+----------------+----+-------+--------------------+---------+----------+----+-----+----+------+\n",
            "|  Structure Fire|  SF|  94109|     Pacific Heights|     2.95|2002-01-11|2002|    1|   2|Winter|\n",
            "|Medical Incident|  SF|  94124|Bayview Hunters P...|      4.7|2002-01-11|2002|    1|   2|Winter|\n",
            "|Medical Incident|  SF|  94102|          Tenderloin|2.4333334|2002-01-11|2002|    1|   2|Winter|\n",
            "|    Vehicle Fire|  SF|  94110|      Bernal Heights|      1.5|2002-01-11|2002|    1|   2|Winter|\n",
            "|          Alarms|  SF|  94109|    Western Addition|3.4833333|2002-01-11|2002|    1|   2|Winter|\n",
            "|  Structure Fire|  SF|  94105|Financial Distric...|     1.75|2002-01-11|2002|    1|   2|Winter|\n",
            "|          Alarms|  SF|  94112|Oceanview/Merced/...|2.7166667|2002-01-11|2002|    1|   2|Winter|\n",
            "|          Alarms|  SF|  94102|          Tenderloin|1.7833333|2002-01-11|2002|    1|   2|Winter|\n",
            "|Medical Incident|  SF|  94115|           Japantown|1.5166667|2002-01-11|2002|    1|   2|Winter|\n",
            "|Medical Incident|  SF|  94114| Castro/Upper Market|2.7666667|2002-01-11|2002|    1|   2|Winter|\n",
            "|Medical Incident|  SF|  94110|             Mission|2.1833334|2002-01-11|2002|    1|   2|Winter|\n",
            "|  Structure Fire|  SF|  94112|           Excelsior|      2.5|2002-01-11|2002|    1|   2|Winter|\n",
            "|Medical Incident|  SF|  94109|            Nob Hill|2.4166667|2002-01-11|2002|    1|   2|Winter|\n",
            "|Medical Incident|  SF|  94121|      Outer Richmond|     4.95|2002-01-11|2002|    1|   2|Winter|\n",
            "|  Structure Fire|  SF|  94110|             Mission|1.4166666|2002-01-11|2002|    1|   2|Winter|\n",
            "|  Structure Fire|  SF|  94110|             Mission|2.5333333|2002-01-11|2002|    1|   2|Winter|\n",
            "|  Structure Fire|  SF|  94110|             Mission|1.8833333|2002-01-11|2002|    1|   2|Winter|\n",
            "|Medical Incident|  SF|  94116|  West of Twin Peaks|     5.35|2002-01-11|2002|    1|   2|Winter|\n",
            "|Medical Incident|  SF|  94118|      Inner Richmond|      2.0|2002-01-11|2002|    1|   2|Winter|\n",
            "|Medical Incident|  SF|  94118|      Inner Richmond|1.8166667|2002-01-11|2002|    1|   2|Winter|\n",
            "+----------------+----+-------+--------------------+---------+----------+----+-----+----+------+\n",
            "only showing top 20 rows\n",
            "\n"
          ]
        }
      ]
    },
    {
      "cell_type": "code",
      "source": [
        "clean_udf.select(\"CallType\",\"Date\",\"City\",\"Month\",\"Season\")\\\n",
        "         .where(col(\"Season\")==\"Spring\").show()"
      ],
      "metadata": {
        "colab": {
          "base_uri": "https://localhost:8080/"
        },
        "id": "UrAv96JYMUMd",
        "outputId": "f8c9b39c-e190-4502-eac8-28cce7e6fdad"
      },
      "execution_count": 57,
      "outputs": [
        {
          "output_type": "stream",
          "name": "stdout",
          "text": [
            "+----------------+----------+----+-----+------+\n",
            "|        CallType|      Date|City|Month|Season|\n",
            "+----------------+----------+----+-----+------+\n",
            "|Medical Incident|2002-03-01|  SF|    3|Spring|\n",
            "|           Other|2002-03-01|  SF|    3|Spring|\n",
            "|          Alarms|2002-03-01|  SF|    3|Spring|\n",
            "|Medical Incident|2002-03-01|  SF|    3|Spring|\n",
            "|Medical Incident|2002-03-01|  SF|    3|Spring|\n",
            "|           Other|2002-03-01|  SF|    3|Spring|\n",
            "|Medical Incident|2002-03-01|  SF|    3|Spring|\n",
            "|Medical Incident|2002-03-01|  SF|    3|Spring|\n",
            "|  Structure Fire|2002-03-01|  SF|    3|Spring|\n",
            "|Medical Incident|2002-03-01|  SF|    3|Spring|\n",
            "|Medical Incident|2002-03-01|  SF|    3|Spring|\n",
            "|Medical Incident|2002-03-01|  SF|    3|Spring|\n",
            "|Medical Incident|2002-03-01|  SF|    3|Spring|\n",
            "|Medical Incident|2002-03-01|  SF|    3|Spring|\n",
            "|  Structure Fire|2002-03-01|  SF|    3|Spring|\n",
            "|  Structure Fire|2002-03-01|  SF|    3|Spring|\n",
            "|Medical Incident|2002-03-01|  SF|    3|Spring|\n",
            "|Medical Incident|2002-03-01|  SF|    3|Spring|\n",
            "|          Alarms|2002-03-01|  SF|    3|Spring|\n",
            "|  Structure Fire|2002-03-02|  SF|    3|Spring|\n",
            "+----------------+----------+----+-----+------+\n",
            "only showing top 20 rows\n",
            "\n"
          ]
        }
      ]
    },
    {
      "cell_type": "code",
      "source": [
        "#QUESTION 1\n",
        "clean_udf.select(\"Year\").groupBy(\"Year\").count().orderBy(\"Year\",ascending=True).show()"
      ],
      "metadata": {
        "colab": {
          "base_uri": "https://localhost:8080/"
        },
        "id": "tLXb6QVqH4jM",
        "outputId": "ffa9d9fb-14aa-4159-af04-952721bb36be"
      },
      "execution_count": 58,
      "outputs": [
        {
          "output_type": "stream",
          "name": "stdout",
          "text": [
            "+----+-----+\n",
            "|Year|count|\n",
            "+----+-----+\n",
            "|2000| 5459|\n",
            "|2001| 7713|\n",
            "|2002| 8090|\n",
            "|2003| 8499|\n",
            "|2004| 8283|\n",
            "|2005| 8282|\n",
            "|2006| 8174|\n",
            "|2007| 8255|\n",
            "|2008| 8869|\n",
            "|2009| 8789|\n",
            "|2010| 9341|\n",
            "|2011| 9735|\n",
            "|2012| 9674|\n",
            "|2013|10020|\n",
            "|2014|10775|\n",
            "|2015|11458|\n",
            "|2016|11609|\n",
            "|2017|12135|\n",
            "|2018|10136|\n",
            "+----+-----+\n",
            "\n"
          ]
        }
      ]
    },
    {
      "cell_type": "code",
      "source": [
        "import pandas as pd\n",
        "import matplotlib.pyplot as plt\n",
        "pandas_udf=clean_udf.select(\"Year\")\\\n",
        ".groupBy(\"Year\").count()\\\n",
        ".orderBy(\"Year\",ascending=True).toPandas()\n",
        "pandas_udf.plot.line(x=\"Year\",y=\"count\")\n",
        "plt.show()"
      ],
      "metadata": {
        "colab": {
          "base_uri": "https://localhost:8080/",
          "height": 449
        },
        "id": "UTE8ARdzJFvv",
        "outputId": "591b86b6-1946-4b20-db3a-8bcc47fc59f1"
      },
      "execution_count": 59,
      "outputs": [
        {
          "output_type": "display_data",
          "data": {
            "text/plain": [
              "<Figure size 640x480 with 1 Axes>"
            ],
            "image/png": "[encoded data removed]"
          },
          "metadata": {}
        }
      ]
    },
    {
      "cell_type": "code",
      "source": [
        "#QUESTION 2\n",
        "clean_udf.select(\"CallType\",\"Year\")\\\n",
        "         .where(col(\"Year\")==2018).distinct().show(truncate=False)\n"
      ],
      "metadata": {
        "colab": {
          "base_uri": "https://localhost:8080/"
        },
        "id": "7PJIPX58KLk6",
        "outputId": "4ef2a2fe-7bb1-4ff4-a813-3fb709920af9"
      },
      "execution_count": 65,
      "outputs": [
        {
          "output_type": "stream",
          "name": "stdout",
          "text": [
            "+-------------------------------+----+\n",
            "|CallType                       |Year|\n",
            "+-------------------------------+----+\n",
            "|Electrical Hazard              |2018|\n",
            "|Fuel Spill                     |2018|\n",
            "|Water Rescue                   |2018|\n",
            "|Medical Incident               |2018|\n",
            "|Vehicle Fire                   |2018|\n",
            "|Other                          |2018|\n",
            "|HazMat                         |2018|\n",
            "|Gas Leak (Natural and LP Gases)|2018|\n",
            "|Assist Police                  |2018|\n",
            "|Smoke Investigation (Outside)  |2018|\n",
            "|Elevator / Escalator Rescue    |2018|\n",
            "|Odor (Strange / Unknown)       |2018|\n",
            "|Structure Fire                 |2018|\n",
            "|Alarms                         |2018|\n",
            "|Traffic Collision              |2018|\n",
            "|Citizen Assist / Service Call  |2018|\n",
            "|Train / Rail Incident          |2018|\n",
            "|Outside Fire                   |2018|\n",
            "|Suspicious Package             |2018|\n",
            "|Explosion                      |2018|\n",
            "+-------------------------------+----+\n",
            "\n"
          ]
        }
      ]
    },
    {
      "cell_type": "code",
      "source": [
        "#QUESTION 3\n",
        "clean_udf.select('Week')\\\n",
        ".where(col('Year')==2018)\\\n",
        ".groupBy('Week')\\\n",
        ".count()\\\n",
        ".orderBy(\"count\",ascending=False).collect()[0][0]"
      ],
      "metadata": {
        "id": "UzDydMKNLHej",
        "colab": {
          "base_uri": "https://localhost:8080/"
        },
        "outputId": "188979f6-93b2-43fd-be32-5d1e70181d88"
      },
      "execution_count": 66,
      "outputs": [
        {
          "output_type": "execute_result",
          "data": {
            "text/plain": [
              "22"
            ]
          },
          "metadata": {},
          "execution_count": 66
        }
      ]
    },
    {
      "cell_type": "code",
      "source": [
        "#QUESTION 4\n",
        "clean_udf.select(\"Month\")\\\n",
        ".where(col('Year')==2018)\\\n",
        ".groupBy('Month')\\\n",
        ".count()\\\n",
        ".orderBy(\"count\",asecending=False).collect()[0][0]"
      ],
      "metadata": {
        "colab": {
          "base_uri": "https://localhost:8080/"
        },
        "id": "uLpt5ToUOdjI",
        "outputId": "d9b0eda5-9d8a-41dd-f193-2919b174eb0c"
      },
      "execution_count": 67,
      "outputs": [
        {
          "output_type": "execute_result",
          "data": {
            "text/plain": [
              "11"
            ]
          },
          "metadata": {},
          "execution_count": 67
        }
      ]
    },
    {
      "cell_type": "code",
      "source": [
        "#QUESTION 5\n",
        "selected_year = 2018\n",
        "clean_ud = clean_udf.filter(clean_udf[\"Year\"] == selected_year)\n",
        "monthly_report = clean_ud.groupBy(\"Year\", \"Month\", \"CallType\") \\\n",
        ".agg(count(col(\"CallType\")).alias(\"call_count\"))\n",
        "monthly_report.show()"
      ],
      "metadata": {
        "colab": {
          "base_uri": "https://localhost:8080/"
        },
        "id": "DjIhX0hCO50e",
        "outputId": "7e4ea864-7927-429f-a93a-871beba9ec14"
      },
      "execution_count": 69,
      "outputs": [
        {
          "output_type": "stream",
          "name": "stdout",
          "text": [
            "+----+-----+--------------------+----------+\n",
            "|Year|Month|            CallType|call_count|\n",
            "+----+-----+--------------------+----------+\n",
            "|2018|    2|   Traffic Collision|        37|\n",
            "|2018|    2|               Other|         7|\n",
            "|2018|    1|               Other|         3|\n",
            "|2018|    1|          Fuel Spill|         1|\n",
            "|2018|    3|Citizen Assist / ...|         8|\n",
            "|2018|    2|    Medical Incident|       635|\n",
            "|2018|    2|Gas Leak (Natural...|         7|\n",
            "|2018|    2|Odor (Strange / U...|         1|\n",
            "|2018|    3|        Water Rescue|         4|\n",
            "|2018|    9|   Traffic Collision|        49|\n",
            "|2018|   10|      Structure Fire|        98|\n",
            "|2018|    1|    Medical Incident|       692|\n",
            "|2018|   11|              Alarms|        24|\n",
            "|2018|    2|        Vehicle Fire|         1|\n",
            "|2018|    2|              Alarms|       102|\n",
            "|2018|    2|       Assist Police|         1|\n",
            "|2018|   10|Elevator / Escala...|         5|\n",
            "|2018|   11|   Traffic Collision|         8|\n",
            "|2018|    1|Train / Rail Inci...|         2|\n",
            "|2018|    1|              HazMat|         1|\n",
            "+----+-----+--------------------+----------+\n",
            "only showing top 20 rows\n",
            "\n"
          ]
        }
      ]
    },
    {
      "cell_type": "code",
      "source": [
        "#QUESTION 6\n",
        "from pyspark.sql.window import Window\n",
        "season_count=clean_udf.select(\"CallType\",\"Season\")\\\n",
        ".filter(col('Year')==2014)\\\n",
        ".groupBy('Season','CallType')\\\n",
        ".count()\\\n",
        ".withColumn('rank',dense_rank().over(Window.partitionBy('Season').orderBy(col('count').desc())))\\\n",
        ".orderBy('Season','rank',ascending=[1,1])\\\n",
        ".filter(col('rank')<6)\n",
        "season_count.show()"
      ],
      "metadata": {
        "id": "SfsiJ5qyVK7T",
        "colab": {
          "base_uri": "https://localhost:8080/"
        },
        "outputId": "cfcbc99f-b3f1-4702-c970-702a91c60f1e"
      },
      "execution_count": 70,
      "outputs": [
        {
          "output_type": "stream",
          "name": "stdout",
          "text": [
            "+------+--------------------+-----+----+\n",
            "|Season|            CallType|count|rank|\n",
            "+------+--------------------+-----+----+\n",
            "|Autumn|    Medical Incident| 1832|   1|\n",
            "|Autumn|      Structure Fire|  319|   2|\n",
            "|Autumn|              Alarms|  314|   3|\n",
            "|Autumn|   Traffic Collision|  120|   4|\n",
            "|Autumn|Citizen Assist / ...|   26|   5|\n",
            "|Spring|    Medical Incident| 1801|   1|\n",
            "|Spring|      Structure Fire|  314|   2|\n",
            "|Spring|              Alarms|  281|   3|\n",
            "|Spring|   Traffic Collision|  112|   4|\n",
            "|Spring|Citizen Assist / ...|   36|   5|\n",
            "|Summer|    Medical Incident| 1770|   1|\n",
            "|Summer|      Structure Fire|  322|   2|\n",
            "|Summer|              Alarms|  269|   3|\n",
            "|Summer|   Traffic Collision|  112|   4|\n",
            "|Summer|        Outside Fire|   37|   5|\n",
            "|Winter|    Medical Incident| 1773|   1|\n",
            "|Winter|              Alarms|  337|   2|\n",
            "|Winter|      Structure Fire|  310|   3|\n",
            "|Winter|   Traffic Collision|  111|   4|\n",
            "|Winter|Citizen Assist / ...|   36|   5|\n",
            "+------+--------------------+-----+----+\n",
            "\n"
          ]
        }
      ]
    },
    {
      "cell_type": "code",
      "source": [
        "#QUESTION 7\n",
        "fire_calls = clean_udf.filter(clean_udf[\"CallType\"] == \"Structure Fire\")\n",
        "monthly_counts = fire_calls.groupBy(date_format(\"Date\", \"yyyy-MM\").alias(\"Month\")).count()\n",
        "monthly_counts.show()"
      ],
      "metadata": {
        "colab": {
          "base_uri": "https://localhost:8080/"
        },
        "id": "JdOMy47mNhh2",
        "outputId": "24ed1a3f-b785-4bee-fcb2-4c593c10c702"
      },
      "execution_count": 73,
      "outputs": [
        {
          "output_type": "stream",
          "name": "stdout",
          "text": [
            "+-------+-----+\n",
            "|  Month|count|\n",
            "+-------+-----+\n",
            "|2013-05|  110|\n",
            "|2009-07|   89|\n",
            "|2018-10|   98|\n",
            "|2002-11|  134|\n",
            "|2013-09|   98|\n",
            "|2009-01|   91|\n",
            "|2005-07|   92|\n",
            "|2005-09|  101|\n",
            "|2013-12|  123|\n",
            "|2006-07|   91|\n",
            "|2003-02|  142|\n",
            "|2013-06|   92|\n",
            "|2005-12|  112|\n",
            "|2006-05|   98|\n",
            "|2008-09|   86|\n",
            "|2006-04|   86|\n",
            "|2006-09|   96|\n",
            "|2002-04|  121|\n",
            "|2003-07|  128|\n",
            "|2002-03|  129|\n",
            "+-------+-----+\n",
            "only showing top 20 rows\n",
            "\n"
          ]
        }
      ]
    },
    {
      "cell_type": "code",
      "source": [
        "#QUESTION 8\n",
        "fire=clean_udf.filter(clean_udf[\"Year\"]==2018)\\\n",
        ".groupBy(\"Month\").count()\\\n",
        ".orderBy('count',ascending=False).show()"
      ],
      "metadata": {
        "colab": {
          "base_uri": "https://localhost:8080/"
        },
        "id": "Z6hRWLXfOKDr",
        "outputId": "ee8d842a-afda-487d-9f3a-36c7eac870e4"
      },
      "execution_count": 75,
      "outputs": [
        {
          "output_type": "stream",
          "name": "stdout",
          "text": [
            "+-----+-----+\n",
            "|Month|count|\n",
            "+-----+-----+\n",
            "|   10| 1068|\n",
            "|    5| 1047|\n",
            "|    3| 1029|\n",
            "|    8| 1021|\n",
            "|    1| 1007|\n",
            "|    6|  974|\n",
            "|    7|  974|\n",
            "|    9|  951|\n",
            "|    4|  947|\n",
            "|    2|  919|\n",
            "|   11|  199|\n",
            "+-----+-----+\n",
            "\n"
          ]
        }
      ]
    },
    {
      "cell_type": "code",
      "source": [
        "fire=clean_udf.filter(clean_udf[\"Year\"]==2018)\\\n",
        ".groupBy(\"Month\").count()\\\n",
        ".orderBy(col(\"count\").desc()).first()\n",
        "print(\"Month that got highest number of fire calls in 2018 is: \",fire)"
      ],
      "metadata": {
        "colab": {
          "base_uri": "https://localhost:8080/"
        },
        "id": "NN39haHINrP4",
        "outputId": "4108f33e-7f0e-4558-8743-17087a449290"
      },
      "execution_count": 79,
      "outputs": [
        {
          "output_type": "stream",
          "name": "stdout",
          "text": [
            "Month that got highest number of fire calls in 2018 is:  Row(Month=10, count=1068)\n"
          ]
        }
      ]
    },
    {
      "cell_type": "code",
      "source": [
        "#QUESTION 9\n",
        "fire_calls = clean_udf.filter(clean_udf[\"CallType\"] == \"Structure Fire\")\n",
        "year = fire_calls.groupBy(year(\"Date\").alias(\"Year\"), \"CallType\").count()\n",
        "major_call_per_year = year.orderBy(\"Year\", desc(\"count\")) \\\n",
        "    .groupBy(\"Year\").agg(first(\"CallType\").alias(\"MajorCallType\"))\n",
        "major_call_per_year.show()"
      ],
      "metadata": {
        "colab": {
          "base_uri": "https://localhost:8080/"
        },
        "id": "uyYQ7EudOXxC",
        "outputId": "e615d416-0992-4a6e-c6f7-18f9f18dbb45"
      },
      "execution_count": 80,
      "outputs": [
        {
          "output_type": "stream",
          "name": "stdout",
          "text": [
            "+----+--------------+\n",
            "|Year| MajorCallType|\n",
            "+----+--------------+\n",
            "|2000|Structure Fire|\n",
            "|2001|Structure Fire|\n",
            "|2002|Structure Fire|\n",
            "|2003|Structure Fire|\n",
            "|2004|Structure Fire|\n",
            "|2005|Structure Fire|\n",
            "|2006|Structure Fire|\n",
            "|2007|Structure Fire|\n",
            "|2008|Structure Fire|\n",
            "|2009|Structure Fire|\n",
            "|2010|Structure Fire|\n",
            "|2011|Structure Fire|\n",
            "|2012|Structure Fire|\n",
            "|2013|Structure Fire|\n",
            "|2014|Structure Fire|\n",
            "|2015|Structure Fire|\n",
            "|2016|Structure Fire|\n",
            "|2017|Structure Fire|\n",
            "|2018|Structure Fire|\n",
            "+----+--------------+\n",
            "\n"
          ]
        }
      ]
    },
    {
      "cell_type": "code",
      "source": [
        "#QUESTION 10\n",
        "average_delay = clean_udf.groupBy(\"CallType\").agg(avg(\"Delay\").alias(\"AverageDelay\"))\n",
        "average_delay.show()"
      ],
      "metadata": {
        "colab": {
          "base_uri": "https://localhost:8080/"
        },
        "id": "dnPHf-QFO20X",
        "outputId": "28959a87-02c6-49e8-f007-3aa29a6d9639"
      },
      "execution_count": 81,
      "outputs": [
        {
          "output_type": "stream",
          "name": "stdout",
          "text": [
            "+--------------------+------------------+\n",
            "|            CallType|      AverageDelay|\n",
            "+--------------------+------------------+\n",
            "|Elevator / Escala...| 4.337821933487857|\n",
            "|         Marine Fire| 6.928571314285715|\n",
            "|  Aircraft Emergency|3.7731481500000004|\n",
            "|Confined Space / ...| 6.915384576923078|\n",
            "|      Administrative|12.261111333333332|\n",
            "|              Alarms|3.5427290545084076|\n",
            "|Odor (Strange / U...| 4.947959182000003|\n",
            "|Citizen Assist / ...| 5.473342576604596|\n",
            "|              HazMat| 7.527016126612902|\n",
            "|Watercraft in Dis...| 6.886904817857142|\n",
            "|           Explosion| 4.110674168539326|\n",
            "|           Oil Spill| 4.977777761904762|\n",
            "|        Vehicle Fire|3.9039227134074928|\n",
            "|  Suspicious Package|6.5766667199999995|\n",
            "|Extrication / Ent...| 4.391666678571427|\n",
            "|               Other| 5.505155432421978|\n",
            "|        Outside Fire| 4.181948425367714|\n",
            "|   Traffic Collision| 3.789132088873234|\n",
            "|       Assist Police|26.981903994285716|\n",
            "|Gas Leak (Natural...|  4.58339877840314|\n",
            "+--------------------+------------------+\n",
            "only showing top 20 rows\n",
            "\n"
          ]
        }
      ]
    },
    {
      "cell_type": "code",
      "source": [
        "#QUESTION 11\n",
        "max_avg_delay = average_delay.orderBy(desc(\"AverageDelay\")).first()\n",
        "print(max_avg_delay)"
      ],
      "metadata": {
        "colab": {
          "base_uri": "https://localhost:8080/"
        },
        "id": "CZWPi4Z_O_Ox",
        "outputId": "ec09b947-80f6-48c2-a2cd-d7f117583ecb"
      },
      "execution_count": 84,
      "outputs": [
        {
          "output_type": "stream",
          "name": "stdout",
          "text": [
            "Row(CallType='Mutual Aid / Assist Outside Agency', AverageDelay=38.41666631111111)\n"
          ]
        }
      ]
    },
    {
      "cell_type": "code",
      "source": [
        "#QUESTION 14\n",
        "fire = clean_udf.filter(clean_udf[\"CallType\"] == \"Structure Fire\")\n",
        "result = fire.groupBy(\"Year\", \"CallType\").agg(avg(\"Delay\").alias(\"AverageDelay\"))\n",
        "maxdelay = result.groupBy(\"CallType\").agg({\"AverageDelay\": \"max\"})\n",
        "maxdelay.show()\n"
      ],
      "metadata": {
        "colab": {
          "base_uri": "https://localhost:8080/"
        },
        "id": "lbxsdgUIPHdQ",
        "outputId": "dfb7356c-2218-43bd-9e36-07fb9459c8e2"
      },
      "execution_count": 91,
      "outputs": [
        {
          "output_type": "stream",
          "name": "stdout",
          "text": [
            "+--------------+------------------+\n",
            "|      CallType| max(AverageDelay)|\n",
            "+--------------+------------------+\n",
            "|Structure Fire|6.5111497307256405|\n",
            "+--------------+------------------+\n",
            "\n"
          ]
        }
      ]
    },
    {
      "cell_type": "code",
      "source": [
        "#QUESTION 15\n",
        "fire = clean_udf.filter(clean_udf[\"CallType\"] == \"Structure Fire\")\n",
        "city= fire.groupBy(\"Year\", \"City\").count()\n",
        "window_spec = Window.partitionBy(\"Year\").orderBy(city[\"count\"].desc())\n",
        "max_city = first(city[\"City\"]).over(window_spec)\n",
        "result = city.withColumn(\"Max_Call_City\", max_city)\n",
        "result.select(\"Year\", \"Max_Call_City\").distinct().show()\n"
      ],
      "metadata": {
        "colab": {
          "base_uri": "https://localhost:8080/"
        },
        "id": "K1YPCMhyQiS5",
        "outputId": "89e5b8d2-c79e-4022-9f6a-9aa78a8e4937"
      },
      "execution_count": 93,
      "outputs": [
        {
          "output_type": "stream",
          "name": "stdout",
          "text": [
            "+----+-------------+\n",
            "|Year|Max_Call_City|\n",
            "+----+-------------+\n",
            "|2000|           SF|\n",
            "|2001|           SF|\n",
            "|2002|           SF|\n",
            "|2003|           SF|\n",
            "|2004|           SF|\n",
            "|2005|           SF|\n",
            "|2006|           SF|\n",
            "|2007|           SF|\n",
            "|2008|           SF|\n",
            "|2009|           SF|\n",
            "|2010|           SF|\n",
            "|2011|           SF|\n",
            "|2012|           SF|\n",
            "|2013|           SF|\n",
            "|2014|San Francisco|\n",
            "|2015|San Francisco|\n",
            "|2016|San Francisco|\n",
            "|2017|San Francisco|\n",
            "|2018|San Francisco|\n",
            "+----+-------------+\n",
            "\n"
          ]
        }
      ]
    },
    {
      "cell_type": "code",
      "source": [
        "#QUESTION 16\n",
        "year_city= clean_udf.groupBy(\"Year\", \"City\", \"CallType\") \\\n",
        "    .agg(count(\"*\").alias(\"CallTypeCount\"))\n",
        "window = Window.partitionBy(\"Year\").orderBy(desc(\"CallTypeCount\"))\n",
        "cities = year_city.withColumn(\"rank\", rank().over(window))\\\n",
        ".filter(col(\"rank\") <= 5)\n",
        "cities.show()"
      ],
      "metadata": {
        "colab": {
          "base_uri": "https://localhost:8080/"
        },
        "id": "cHgfKZqhQo2a",
        "outputId": "f93f39ae-dd79-4e14-d15a-421518160aaa"
      },
      "execution_count": 89,
      "outputs": [
        {
          "output_type": "stream",
          "name": "stdout",
          "text": [
            "+----+----+--------------------+-------------+----+\n",
            "|Year|City|            CallType|CallTypeCount|rank|\n",
            "+----+----+--------------------+-------------+----+\n",
            "|2000|  SF|    Medical Incident|         3399|   1|\n",
            "|2000|  SF|      Structure Fire|         1002|   2|\n",
            "|2000|  SF|              Alarms|          620|   3|\n",
            "|2000|  SF|Citizen Assist / ...|          124|   4|\n",
            "|2000|  SF|               Other|           99|   5|\n",
            "|2001|  SF|    Medical Incident|         4619|   1|\n",
            "|2001|  SF|      Structure Fire|         1542|   2|\n",
            "|2001|  SF|              Alarms|          868|   3|\n",
            "|2001|  SF|               Other|          189|   4|\n",
            "|2001|  SF|Citizen Assist / ...|          122|   5|\n",
            "|2002|  SF|    Medical Incident|         5022|   1|\n",
            "|2002|  SF|      Structure Fire|         1571|   2|\n",
            "|2002|  SF|              Alarms|          827|   3|\n",
            "|2002|  SF|               Other|          171|   4|\n",
            "|2002|  SF|Citizen Assist / ...|          140|   5|\n",
            "|2003|  SF|    Medical Incident|         5026|   1|\n",
            "|2003|  SF|      Structure Fire|         1540|   2|\n",
            "|2003|  SF|              Alarms|          950|   3|\n",
            "|2003|  SF|   Traffic Collision|          319|   4|\n",
            "|2003|  SF|Citizen Assist / ...|          140|   5|\n",
            "+----+----+--------------------+-------------+----+\n",
            "only showing top 20 rows\n",
            "\n"
          ]
        }
      ]
    }
  ]
}