{
  "nbformat": 4,
  "nbformat_minor": 0,
  "metadata": {
    "colab": {
      "provenance": []
    },
    "kernelspec": {
      "name": "python3",
      "display_name": "Python 3"
    },
    "language_info": {
      "name": "python"
    }
  },
  "cells": [
    {
      "cell_type": "code",
      "execution_count": 1,
      "metadata": {
        "colab": {
          "base_uri": "https://localhost:8080/"
        },
        "id": "98jJEBoTXD7R",
        "outputId": "b992c2ec-e524-4fe9-835c-dec9c4f1d52c"
      },
      "outputs": [
        {
          "output_type": "stream",
          "name": "stdout",
          "text": [
            "Collecting pyspark\n",
            "  Downloading pyspark-3.5.0.tar.gz (316.9 MB)\n",
            "\u001b[2K     \u001b[90m━━━━━━━━━━━━━━━━━━━━━━━━━━━━━━━━━━━━━━━━\u001b[0m \u001b[32m316.9/316.9 MB\u001b[0m \u001b[31m4.1 MB/s\u001b[0m eta \u001b[36m0:00:00\u001b[0m\n",
            "\u001b[?25h  Preparing metadata (setup.py) ... \u001b[?25l\u001b[?25hdone\n",
            "Requirement already satisfied: py4j==0.10.9.7 in /usr/local/lib/python3.10/dist-packages (from pyspark) (0.10.9.7)\n",
            "Building wheels for collected packages: pyspark\n",
            "  Building wheel for pyspark (setup.py) ... \u001b[?25l\u001b[?25hdone\n",
            "  Created wheel for pyspark: filename=pyspark-3.5.0-py2.py3-none-any.whl size=317425344 sha256=18a51f57103f7365d036cc6dad22b976b21e37a87a99b1acd3f7ef1a820b5362\n",
            "  Stored in directory: /root/.cache/pip/wheels/41/4e/10/c2cf2467f71c678cfc8a6b9ac9241e5e44a01940da8fbb17fc\n",
            "Successfully built pyspark\n",
            "Installing collected packages: pyspark\n",
            "Successfully installed pyspark-3.5.0\n"
          ]
        }
      ],
      "source": [
        "!pip install pyspark"
      ]
    },
    {
      "cell_type": "code",
      "source": [
        "import pyspark\n",
        "from pyspark.sql import SparkSession\n",
        "spark=SparkSession.builder.appName('students').getOrCreate()"
      ],
      "metadata": {
        "id": "Y2ShBHm6XYGe"
      },
      "execution_count": 2,
      "outputs": []
    },
    {
      "cell_type": "code",
      "source": [
        "students=spark.sparkContext.textFile('Students.txt')"
      ],
      "metadata": {
        "id": "z91h9UrGXsup"
      },
      "execution_count": 3,
      "outputs": []
    },
    {
      "cell_type": "code",
      "source": [
        "students.collect()"
      ],
      "metadata": {
        "colab": {
          "base_uri": "https://localhost:8080/"
        },
        "id": "bbHIi0P9YPL0",
        "outputId": "3dd82fb0-9226-40d4-d091-24d4469c0619"
      },
      "execution_count": 4,
      "outputs": [
        {
          "output_type": "execute_result",
          "data": {
            "text/plain": [
              "['Akash MSIS ME M',\n",
              " 'Anvit MSIS ME F',\n",
              " 'Sohan MSIS ME M',\n",
              " 'Sujana MSIS ME F',\n",
              " 'Avanti MSIS ME F',\n",
              " 'Ananya MSIS ME F',\n",
              " 'Anujna MIT MTech F',\n",
              " 'Abhinava MIT MTech M']"
            ]
          },
          "metadata": {},
          "execution_count": 4
        }
      ]
    },
    {
      "cell_type": "code",
      "source": [
        "#Compute number of students from each Institute.\n",
        "\n",
        "students.map(lambda d:(d.split(' ')[1],1)).reduceByKey(lambda a,b:a+b).collect()"
      ],
      "metadata": {
        "colab": {
          "base_uri": "https://localhost:8080/"
        },
        "id": "TBkPdkUQYTkh",
        "outputId": "a025e178-f702-4c00-a7b2-6a20ad729f1e"
      },
      "execution_count": 6,
      "outputs": [
        {
          "output_type": "execute_result",
          "data": {
            "text/plain": [
              "[('MSIS', 6), ('MIT', 2)]"
            ]
          },
          "metadata": {},
          "execution_count": 6
        }
      ]
    },
    {
      "cell_type": "code",
      "source": [
        "#Number of students enrolled to any program.\n",
        "\n",
        "students.map(lambda d:(d.split(' ')[2],1)).reduceByKey(lambda a,b:a+b).collect()"
      ],
      "metadata": {
        "colab": {
          "base_uri": "https://localhost:8080/"
        },
        "id": "SPoOoKmtYcwI",
        "outputId": "7e61af02-5b93-4810-86c1-94cb753f0463"
      },
      "execution_count": 7,
      "outputs": [
        {
          "output_type": "execute_result",
          "data": {
            "text/plain": [
              "[('ME', 6), ('MTech', 2)]"
            ]
          },
          "metadata": {},
          "execution_count": 7
        }
      ]
    },
    {
      "cell_type": "code",
      "source": [
        "#Number of ‘boy’ and ‘girl’ students.\n",
        "\n",
        "students.map(lambda d:(d.split(' ')[3],1)).reduceByKey(lambda a,b:a+b).collect()"
      ],
      "metadata": {
        "colab": {
          "base_uri": "https://localhost:8080/"
        },
        "id": "XZCE1uCeYpin",
        "outputId": "3fa8657e-f369-4901-9e58-78dc9ba5fc54"
      },
      "execution_count": 9,
      "outputs": [
        {
          "output_type": "execute_result",
          "data": {
            "text/plain": [
              "[('M', 3), ('F', 5)]"
            ]
          },
          "metadata": {},
          "execution_count": 9
        }
      ]
    },
    {
      "cell_type": "code",
      "source": [
        "#Number of ‘boy’ and ‘girl’ students from a selected institution\n",
        "\n",
        "students.filter(lambda d:(d.split(' ')[1]==\"MSIS\")).map(lambda d:(d.split(' ')[3],1)).reduceByKey(lambda a,b:a+b).collect()"
      ],
      "metadata": {
        "colab": {
          "base_uri": "https://localhost:8080/"
        },
        "id": "W7SOgyGgYu9J",
        "outputId": "d9ba08aa-16cb-42f5-92fa-5dd1255999b3"
      },
      "execution_count": 10,
      "outputs": [
        {
          "output_type": "execute_result",
          "data": {
            "text/plain": [
              "[('M', 2), ('F', 4)]"
            ]
          },
          "metadata": {},
          "execution_count": 10
        }
      ]
    }
  ]
}