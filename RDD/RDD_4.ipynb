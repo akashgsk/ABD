{
  "nbformat": 4,
  "nbformat_minor": 0,
  "metadata": {
    "colab": {
      "provenance": []
    },
    "kernelspec": {
      "name": "python3",
      "display_name": "Python 3"
    },
    "language_info": {
      "name": "python"
    }
  },
  "cells": [
    {
      "cell_type": "code",
      "execution_count": 1,
      "metadata": {
        "colab": {
          "base_uri": "https://localhost:8080/"
        },
        "id": "8JD4LdPGpbfD",
        "outputId": "ccae5221-9576-4604-9cd2-e51e3e728995"
      },
      "outputs": [
        {
          "output_type": "stream",
          "name": "stdout",
          "text": [
            "Collecting pyspark\n",
            "  Downloading pyspark-3.5.0.tar.gz (316.9 MB)\n",
            "\u001b[2K     \u001b[90m━━━━━━━━━━━━━━━━━━━━━━━━━━━━━━━━━━━━━━━━\u001b[0m \u001b[32m316.9/316.9 MB\u001b[0m \u001b[31m4.5 MB/s\u001b[0m eta \u001b[36m0:00:00\u001b[0m\n",
            "\u001b[?25h  Preparing metadata (setup.py) ... \u001b[?25l\u001b[?25hdone\n",
            "Requirement already satisfied: py4j==0.10.9.7 in /usr/local/lib/python3.10/dist-packages (from pyspark) (0.10.9.7)\n",
            "Building wheels for collected packages: pyspark\n",
            "  Building wheel for pyspark (setup.py) ... \u001b[?25l\u001b[?25hdone\n",
            "  Created wheel for pyspark: filename=pyspark-3.5.0-py2.py3-none-any.whl size=317425344 sha256=c962ac20fb39f6f016724c94bd0a6f8ac507d0411f160b8d2aa289f523a50d28\n",
            "  Stored in directory: /root/.cache/pip/wheels/41/4e/10/c2cf2467f71c678cfc8a6b9ac9241e5e44a01940da8fbb17fc\n",
            "Successfully built pyspark\n",
            "Installing collected packages: pyspark\n",
            "Successfully installed pyspark-3.5.0\n"
          ]
        }
      ],
      "source": [
        "!pip install pyspark"
      ]
    },
    {
      "cell_type": "code",
      "source": [
        "import pyspark\n",
        "from pyspark.sql import SparkSession\n",
        "spark=SparkSession.builder.appName(\"Bank\").getOrCreate()"
      ],
      "metadata": {
        "id": "fw8A97eLpgIC"
      },
      "execution_count": 2,
      "outputs": []
    },
    {
      "cell_type": "markdown",
      "source": [
        "Create dataset (text file) of bank transactions. Fields in file are ‘Bank ID', ‘Account Number’, ‘Transaction Date’, ‘Transaction Type’ (credit or debit), ‘Transaction Amount’. Date format is dd-mm-yyyy."
      ],
      "metadata": {
        "id": "9gj2Q1-oqLwj"
      }
    },
    {
      "cell_type": "code",
      "source": [
        "bank=spark.sparkContext.textFile(\"bank.txt\")"
      ],
      "metadata": {
        "id": "7TtQw0UIpjdh"
      },
      "execution_count": 3,
      "outputs": []
    },
    {
      "cell_type": "code",
      "source": [
        "bank.collect()"
      ],
      "metadata": {
        "colab": {
          "base_uri": "https://localhost:8080/"
        },
        "id": "zsiqXaBJpyiU",
        "outputId": "249f5676-9c36-424a-a200-89527bb1ac52"
      },
      "execution_count": 4,
      "outputs": [
        {
          "output_type": "execute_result",
          "data": {
            "text/plain": [
              "['SBI00042\\t123876122\\t23-10-2021\\tC\\t250',\n",
              " 'SBI00042\\t123876122\\t23-10-2021\\tD\\t250',\n",
              " 'SBI00042\\t123876122\\t23-10-2021\\tC\\t250',\n",
              " 'SBI00042\\t123872822\\t23-10-2021\\tC\\t1250',\n",
              " 'SBI00042\\t123876122\\t23-10-2021\\tD\\t250',\n",
              " 'SBI00042\\t123823822\\t23-10-2021\\tC\\t10250',\n",
              " 'SBI00042\\t123876171\\t23-10-2021\\tD\\t25000',\n",
              " 'SBI00042\\t123872322\\t23-10-2021\\tC\\t12500',\n",
              " 'SBI00042\\t123876142\\t23-10-2021\\tD\\t2500',\n",
              " 'SBI00042\\t123872829\\t23-10-2021\\tC\\t100',\n",
              " 'CAN00123\\t720127541\\t03-1-2010\\tC\\t250',\n",
              " 'CAN00123\\t123872822\\t23-10-2021\\tC\\t1250',\n",
              " 'CAN00123\\t123876122\\t23-10-2019\\tD\\t250',\n",
              " 'CAN00123\\t123456789\\t23-11-2020\\tC\\t10250',\n",
              " 'CAN00123\\t123456789\\t23-12-2020\\tC\\t10250',\n",
              " 'CAN00123\\t123456789\\t23-10-2020\\tC\\t10250',\n",
              " 'CAN00123\\t123876171\\t13-10-2005\\tD\\t25000',\n",
              " 'SBI00042\\t123872322\\t15-11-2012\\tC\\t12500',\n",
              " 'SBI00042\\t123876142\\t06-01-2006\\tD\\t2500',\n",
              " 'SBI00042\\t123872829\\t30-11-2001\\tC\\t10000',\n",
              " 'SBI00042\\t123872829\\t30-07-2001\\tC\\t10000',\n",
              " 'SBI00042\\t123872829\\t30-01-2001\\tC\\t10000',\n",
              " 'ICI00072\\t123823122\\t23-10-2021\\tC\\t250',\n",
              " 'ICI00072\\t123809822\\t23-10-2021\\tC\\t1250',\n",
              " 'ICI00072\\t123376422\\t23-10-2021\\tD\\t250',\n",
              " 'ICI00072\\t123822322\\t23-10-2021\\tC\\t10250',\n",
              " 'ICI00072\\t123802671\\t23-10-2021\\tD\\t25000',\n",
              " 'ICI00072\\t123830822\\t23-10-2021\\tC\\t12500',\n",
              " 'SBI00042\\t123876142\\t11-04-2000\\tD\\t2500',\n",
              " 'SBI00042\\t123872829\\t21-07-2002\\tC\\t100',\n",
              " 'CAN00123\\t720127541\\t03-1-2010\\tC\\t250',\n",
              " 'CAN00123\\t123456789\\t03-10-2011\\tC\\t51250',\n",
              " 'CAN00123\\t123876122\\t06-08-2015\\tD\\t250',\n",
              " 'CAN00123\\t123823822\\t23-10-2020\\tC\\t10250',\n",
              " 'CAN00123\\t123456789\\t13-10-2005\\tD\\t25000',\n",
              " 'SBI00042\\t123872322\\t15-11-2012\\tC\\t12500',\n",
              " 'SBI00042\\t123876142\\t06-01-2006\\tD\\t2500',\n",
              " 'SBI00042\\t123872829\\t30-01-2001\\tC\\t10000']"
            ]
          },
          "metadata": {},
          "execution_count": 4
        }
      ]
    },
    {
      "cell_type": "code",
      "source": [
        "#Count unique number of customers\n",
        "bank.map(lambda d:d.split('\\t')[1]).distinct().count()"
      ],
      "metadata": {
        "colab": {
          "base_uri": "https://localhost:8080/"
        },
        "id": "MI_7WUwtp3hb",
        "outputId": "d4e57f50-b2e0-4770-d50d-c5ac66d61887"
      },
      "execution_count": 5,
      "outputs": [
        {
          "output_type": "execute_result",
          "data": {
            "text/plain": [
              "15"
            ]
          },
          "metadata": {},
          "execution_count": 5
        }
      ]
    },
    {
      "cell_type": "code",
      "source": [
        "#Count unique number of Bank ID\n",
        "bank.map(lambda d:d.split('\\t')[0]).distinct().count()"
      ],
      "metadata": {
        "colab": {
          "base_uri": "https://localhost:8080/"
        },
        "id": "_eeHUN_fqipy",
        "outputId": "102ab9a8-7877-4605-8dfb-62a80469c339"
      },
      "execution_count": 6,
      "outputs": [
        {
          "output_type": "execute_result",
          "data": {
            "text/plain": [
              "3"
            ]
          },
          "metadata": {},
          "execution_count": 6
        }
      ]
    },
    {
      "cell_type": "code",
      "source": [
        "#Count unique number of customers per Bank ID\n",
        "bank.map(lambda d:(d.split('\\t')[0],d.split('\\t')[1])).distinct().map(lambda d:(str(d).split(',')[0],1)).reduceByKey(lambda a,b:a+b).collect()"
      ],
      "metadata": {
        "colab": {
          "base_uri": "https://localhost:8080/"
        },
        "id": "1bXhVilGqm7a",
        "outputId": "fe57ad06-90f1-40c8-e0e4-00f293a887f2"
      },
      "execution_count": 7,
      "outputs": [
        {
          "output_type": "execute_result",
          "data": {
            "text/plain": [
              "[(\"('SBI00042'\", 7), (\"('ICI00072'\", 6), (\"('CAN00123'\", 6)]"
            ]
          },
          "metadata": {},
          "execution_count": 7
        }
      ]
    },
    {
      "cell_type": "code",
      "source": [
        "#Number of transactions for given Account Number\n",
        "bank.map(lambda d:(d.split('\\t')[1],1)).reduceByKey(lambda a,b:a+b).collect()"
      ],
      "metadata": {
        "colab": {
          "base_uri": "https://localhost:8080/"
        },
        "id": "KaJxkTD-qpn_",
        "outputId": "c82892ef-b8f9-4376-cef5-672ca9c6ce65"
      },
      "execution_count": 8,
      "outputs": [
        {
          "output_type": "execute_result",
          "data": {
            "text/plain": [
              "[('123876122', 6),\n",
              " ('123872822', 2),\n",
              " ('123876171', 2),\n",
              " ('123876142', 4),\n",
              " ('123823122', 1),\n",
              " ('123809822', 1),\n",
              " ('123376422', 1),\n",
              " ('123802671', 1),\n",
              " ('123823822', 2),\n",
              " ('123872322', 3),\n",
              " ('123872829', 6),\n",
              " ('720127541', 2),\n",
              " ('123456789', 5),\n",
              " ('123822322', 1),\n",
              " ('123830822', 1)]"
            ]
          },
          "metadata": {},
          "execution_count": 8
        }
      ]
    },
    {
      "cell_type": "code",
      "source": [
        "#Number of credit transactions for given Account Number in a given year\n",
        "def checkCredit(d):\n",
        "  if 'C' in d:\n",
        "    return True\n",
        "bank.map(lambda d:(d.split('\\t')[1]+d.split('\\t')[3])).filter(lambda d:checkCredit(d)).map(lambda d:(d.split('C')[0],1)).reduceByKey(lambda a,b:a+b).collect()"
      ],
      "metadata": {
        "colab": {
          "base_uri": "https://localhost:8080/"
        },
        "id": "y8mb6nkAqsOB",
        "outputId": "98e46b13-19fd-41f9-cf46-b31c296cbbdc"
      },
      "execution_count": 9,
      "outputs": [
        {
          "output_type": "execute_result",
          "data": {
            "text/plain": [
              "[('123876122', 2),\n",
              " ('123872822', 2),\n",
              " ('123823122', 1),\n",
              " ('123809822', 1),\n",
              " ('123823822', 2),\n",
              " ('123872322', 3),\n",
              " ('123872829', 6),\n",
              " ('720127541', 2),\n",
              " ('123456789', 4),\n",
              " ('123822322', 1),\n",
              " ('123830822', 1)]"
            ]
          },
          "metadata": {},
          "execution_count": 9
        }
      ]
    }
  ]
}