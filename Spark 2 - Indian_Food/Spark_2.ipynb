{
  "nbformat": 4,
  "nbformat_minor": 0,
  "metadata": {
    "colab": {
      "provenance": []
    },
    "kernelspec": {
      "name": "python3",
      "display_name": "Python 3"
    },
    "language_info": {
      "name": "python"
    }
  },
  "cells": [
    {
      "cell_type": "code",
      "execution_count": 2,
      "metadata": {
        "colab": {
          "base_uri": "https://localhost:8080/"
        },
        "id": "mG3wdQmDyVuU",
        "outputId": "1296f3a3-a6bf-4f52-c346-85d5267fe7ef"
      },
      "outputs": [
        {
          "output_type": "stream",
          "name": "stdout",
          "text": [
            "Collecting pyspark\n",
            "  Downloading pyspark-3.5.0.tar.gz (316.9 MB)\n",
            "\u001b[2K     \u001b[90m━━━━━━━━━━━━━━━━━━━━━━━━━━━━━━━━━━━━━━━━\u001b[0m \u001b[32m316.9/316.9 MB\u001b[0m \u001b[31m4.3 MB/s\u001b[0m eta \u001b[36m0:00:00\u001b[0m\n",
            "\u001b[?25h  Preparing metadata (setup.py) ... \u001b[?25l\u001b[?25hdone\n",
            "Requirement already satisfied: py4j==0.10.9.7 in /usr/local/lib/python3.10/dist-packages (from pyspark) (0.10.9.7)\n",
            "Building wheels for collected packages: pyspark\n",
            "  Building wheel for pyspark (setup.py) ... \u001b[?25l\u001b[?25hdone\n",
            "  Created wheel for pyspark: filename=pyspark-3.5.0-py2.py3-none-any.whl size=317425344 sha256=dbd8dd5bbe83fdee9d2c2a0ba776be30d336d3ab5c539be7dead9b73303ace6f\n",
            "  Stored in directory: /root/.cache/pip/wheels/41/4e/10/c2cf2467f71c678cfc8a6b9ac9241e5e44a01940da8fbb17fc\n",
            "Successfully built pyspark\n",
            "Installing collected packages: pyspark\n",
            "Successfully installed pyspark-3.5.0\n"
          ]
        }
      ],
      "source": [
        "!pip install pyspark"
      ]
    },
    {
      "cell_type": "code",
      "source": [
        "import pyspark\n",
        "from pyspark.sql import SparkSession\n",
        "spark = SparkSession.builder.appName('Food DF').getOrCreate()"
      ],
      "metadata": {
        "id": "h9c7OSgIzWHl"
      },
      "execution_count": 3,
      "outputs": []
    },
    {
      "cell_type": "code",
      "source": [
        "from pyspark.sql.functions import *\n",
        "from pyspark.sql.types import *"
      ],
      "metadata": {
        "id": "SuE_xMiLzelf"
      },
      "execution_count": 4,
      "outputs": []
    },
    {
      "cell_type": "code",
      "source": [
        "df = spark.read.csv(\"indian_food.csv\",header=True,inferSchema=True)\n",
        "df.show()"
      ],
      "metadata": {
        "colab": {
          "base_uri": "https://localhost:8080/"
        },
        "id": "jUGovmV8ziLt",
        "outputId": "1b75c57f-80f6-4cbd-9b5c-a11193d42185"
      },
      "execution_count": 5,
      "outputs": [
        {
          "output_type": "stream",
          "name": "stdout",
          "text": [
            "+--------------+--------------------+----------+---------+---------+--------------+-------+-------------+------+\n",
            "|          name|         ingredients|      diet|prep_time|cook_time|flavor_profile| course|        state|region|\n",
            "+--------------+--------------------+----------+---------+---------+--------------+-------+-------------+------+\n",
            "|    Balu shahi|Maida flour, yogu...|vegetarian|       45|       25|         sweet|dessert|  West Bengal|  East|\n",
            "|        Boondi|Gram flour, ghee,...|vegetarian|       80|       30|         sweet|dessert|    Rajasthan|  West|\n",
            "|Gajar ka halwa|Carrots, milk, su...|vegetarian|       15|       60|         sweet|dessert|       Punjab| North|\n",
            "|        Ghevar|Flour, ghee, kewr...|vegetarian|       15|       30|         sweet|dessert|    Rajasthan|  West|\n",
            "|   Gulab jamun|Milk powder, plai...|vegetarian|       15|       40|         sweet|dessert|  West Bengal|  East|\n",
            "|        Imarti|Sugar syrup, lent...|vegetarian|       10|       50|         sweet|dessert|  West Bengal|  East|\n",
            "|        Jalebi|Maida, corn flour...|vegetarian|       10|       50|         sweet|dessert|Uttar Pradesh| North|\n",
            "|    Kaju katli|Cashews, ghee, ca...|vegetarian|       10|       20|         sweet|dessert|           -1|    -1|\n",
            "|      Kalakand|Milk, cottage che...|vegetarian|       20|       30|         sweet|dessert|  West Bengal|  East|\n",
            "|         Kheer|Milk, rice, sugar...|vegetarian|       10|       40|         sweet|dessert|           -1|    -1|\n",
            "|         Laddu|Gram flour, ghee,...|vegetarian|       10|       40|         sweet|dessert|           -1|    -1|\n",
            "|         Lassi|Yogurt, milk, nut...|vegetarian|        5|        5|         sweet|dessert|       Punjab| North|\n",
            "|     Nankhatai|Refined flour, be...|vegetarian|       20|       30|         sweet|dessert|           -1|    -1|\n",
            "|         Petha|Firm white pumpki...|vegetarian|       10|       30|         sweet|dessert|Uttar Pradesh| North|\n",
            "|        Phirni|   Rice, sugar, nuts|vegetarian|       30|       20|         sweet|dessert|       Odisha|  East|\n",
            "|         Rabri|Condensed milk, s...|vegetarian|       10|       45|         sweet|dessert|Uttar Pradesh| North|\n",
            "|        Sheera|Semolina, ghee, n...|vegetarian|       10|       25|         sweet|dessert|  Maharashtra|  West|\n",
            "|       Singori|Khoa, coconut, mo...|vegetarian|       10|       20|         sweet|dessert|  Uttarakhand| North|\n",
            "|   Sohan halwa|Corn flour, ghee,...|vegetarian|       10|       60|         sweet|dessert|Uttar Pradesh| North|\n",
            "|   Sohan papdi|Gram flour, ghee,...|vegetarian|       -1|       60|         sweet|dessert|  Maharashtra|  West|\n",
            "+--------------+--------------------+----------+---------+---------+--------------+-------+-------------+------+\n",
            "only showing top 20 rows\n",
            "\n"
          ]
        }
      ]
    },
    {
      "cell_type": "code",
      "source": [
        "df.printSchema()"
      ],
      "metadata": {
        "colab": {
          "base_uri": "https://localhost:8080/"
        },
        "id": "aes7apazJ__Q",
        "outputId": "c71aeef5-fae1-46b4-de35-934c344fdc0a"
      },
      "execution_count": 6,
      "outputs": [
        {
          "output_type": "stream",
          "name": "stdout",
          "text": [
            "root\n",
            " |-- name: string (nullable = true)\n",
            " |-- ingredients: string (nullable = true)\n",
            " |-- diet: string (nullable = true)\n",
            " |-- prep_time: integer (nullable = true)\n",
            " |-- cook_time: integer (nullable = true)\n",
            " |-- flavor_profile: string (nullable = true)\n",
            " |-- course: string (nullable = true)\n",
            " |-- state: string (nullable = true)\n",
            " |-- region: string (nullable = true)\n",
            "\n"
          ]
        }
      ]
    },
    {
      "cell_type": "code",
      "source": [
        "# 1.Find out how many unique dishes are present.\n",
        "\n",
        "df1 = df.select(col('name')).distinct().count()\n",
        "df1"
      ],
      "metadata": {
        "colab": {
          "base_uri": "https://localhost:8080/"
        },
        "id": "sl8giUa00V7B",
        "outputId": "5bf81430-f6c9-4725-80f6-a7815fc163ce"
      },
      "execution_count": 19,
      "outputs": [
        {
          "output_type": "execute_result",
          "data": {
            "text/plain": [
              "255"
            ]
          },
          "metadata": {},
          "execution_count": 19
        }
      ]
    },
    {
      "cell_type": "code",
      "source": [
        "# 2.Which state has more dishes?\n",
        "\n",
        "df2 = df.select(col('state')).groupBy('state').count()\n",
        "df2.select('state','count').filter(col('count')==df2.agg({'count':'max'}).collect()[0][0]).show()"
      ],
      "metadata": {
        "colab": {
          "base_uri": "https://localhost:8080/"
        },
        "id": "u5Yf7_TF0r9q",
        "outputId": "201ff729-2f96-43e0-d9e8-c305181e588d"
      },
      "execution_count": 20,
      "outputs": [
        {
          "output_type": "stream",
          "name": "stdout",
          "text": [
            "+-------+-----+\n",
            "|  state|count|\n",
            "+-------+-----+\n",
            "|Gujarat|   35|\n",
            "+-------+-----+\n",
            "\n"
          ]
        }
      ]
    },
    {
      "cell_type": "code",
      "source": [
        "# 3.How many dishes from state Karnataka?\n",
        "\n",
        "df3 = df.where(col('state')=='Karnataka').count()\n",
        "df3"
      ],
      "metadata": {
        "colab": {
          "base_uri": "https://localhost:8080/"
        },
        "id": "Sf6A85T3LJGK",
        "outputId": "4a1efe7a-ee3d-46e4-bb25-a6bb082e700c"
      },
      "execution_count": 15,
      "outputs": [
        {
          "output_type": "execute_result",
          "data": {
            "text/plain": [
              "6"
            ]
          },
          "metadata": {},
          "execution_count": 15
        }
      ]
    },
    {
      "cell_type": "code",
      "source": [
        "# 4.List number of unique regions.\n",
        "\n",
        "df4 = df.select(col('region')).distinct().show()\n",
        "df4"
      ],
      "metadata": {
        "colab": {
          "base_uri": "https://localhost:8080/"
        },
        "id": "ySeEhyNlLWl7",
        "outputId": "8569c93f-a405-418c-e408-a55b69f3f5a4"
      },
      "execution_count": 25,
      "outputs": [
        {
          "output_type": "stream",
          "name": "stdout",
          "text": [
            "+----------+\n",
            "|    region|\n",
            "+----------+\n",
            "|        -1|\n",
            "|     South|\n",
            "|   Central|\n",
            "|      East|\n",
            "|      West|\n",
            "|North East|\n",
            "|     North|\n",
            "|      NULL|\n",
            "+----------+\n",
            "\n"
          ]
        }
      ]
    },
    {
      "cell_type": "code",
      "source": [
        "# 5.Count number of dishes from each region.\n",
        "\n",
        "df5 = df.select(col('region')).groupBy('region').count().show()\n",
        "df5"
      ],
      "metadata": {
        "colab": {
          "base_uri": "https://localhost:8080/"
        },
        "id": "QCnuzjN4LaTO",
        "outputId": "4eade212-b482-48f4-bd65-a1d194f7cb55"
      },
      "execution_count": 26,
      "outputs": [
        {
          "output_type": "stream",
          "name": "stdout",
          "text": [
            "+----------+-----+\n",
            "|    region|count|\n",
            "+----------+-----+\n",
            "|        -1|   13|\n",
            "|      NULL|    1|\n",
            "|     South|   59|\n",
            "|   Central|    3|\n",
            "|      East|   31|\n",
            "|      West|   74|\n",
            "|North East|   25|\n",
            "|     North|   49|\n",
            "+----------+-----+\n",
            "\n"
          ]
        }
      ]
    },
    {
      "cell_type": "code",
      "source": [
        "# 6. List unique 'flavor_profile' and 'course'\n",
        "\n",
        "df6 = df.select(col('flavor_profile'),col('course')).distinct().show()\n",
        "df6"
      ],
      "metadata": {
        "colab": {
          "base_uri": "https://localhost:8080/"
        },
        "id": "v98oQTb9LkD5",
        "outputId": "0c8d4ff9-35fa-48e4-a1e8-64415467f43a"
      },
      "execution_count": 27,
      "outputs": [
        {
          "output_type": "stream",
          "name": "stdout",
          "text": [
            "+--------------+-----------+\n",
            "|flavor_profile|     course|\n",
            "+--------------+-----------+\n",
            "|        bitter|      snack|\n",
            "|         spicy|    starter|\n",
            "|          sour|main course|\n",
            "|            -1|      snack|\n",
            "|            -1|main course|\n",
            "|         sweet|main course|\n",
            "|        bitter|main course|\n",
            "|         spicy|      snack|\n",
            "|         sweet|    dessert|\n",
            "|         spicy|main course|\n",
            "+--------------+-----------+\n",
            "\n"
          ]
        }
      ]
    },
    {
      "cell_type": "code",
      "source": [
        "# 7.Which state has more 'main course'?\n",
        "\n",
        "df7=df.select('state').groupBy('state').count()\n",
        "df7.select('state','count').where(col('count')==df7.agg({'count':'max'}).collect()[0][0]).show()"
      ],
      "metadata": {
        "colab": {
          "base_uri": "https://localhost:8080/"
        },
        "id": "0gGIQu3LLzfA",
        "outputId": "dbe13645-062b-4710-e4ea-23514b4686ee"
      },
      "execution_count": 21,
      "outputs": [
        {
          "output_type": "stream",
          "name": "stdout",
          "text": [
            "+-------+-----+\n",
            "|  state|count|\n",
            "+-------+-----+\n",
            "|Gujarat|   35|\n",
            "+-------+-----+\n",
            "\n"
          ]
        }
      ]
    },
    {
      "cell_type": "code",
      "source": [
        "# 8.Give the %of dishes from each region\n",
        "\n",
        "total=df.count()\n",
        "df.select('region').groupBy('region').count().withColumn('percentage',col('count')/ total*100).show()"
      ],
      "metadata": {
        "colab": {
          "base_uri": "https://localhost:8080/"
        },
        "id": "Ji5uEt2zMBAw",
        "outputId": "ae028317-1634-4b9c-817e-3a0b848d2ee0"
      },
      "execution_count": 23,
      "outputs": [
        {
          "output_type": "stream",
          "name": "stdout",
          "text": [
            "+----------+-----+-------------------+\n",
            "|    region|count|         percentage|\n",
            "+----------+-----+-------------------+\n",
            "|        -1|   13|  5.098039215686274|\n",
            "|      NULL|    1|0.39215686274509803|\n",
            "|     South|   59| 23.137254901960784|\n",
            "|   Central|    3| 1.1764705882352942|\n",
            "|      East|   31| 12.156862745098039|\n",
            "|      West|   74|  29.01960784313726|\n",
            "|North East|   25|  9.803921568627452|\n",
            "|     North|   49| 19.215686274509807|\n",
            "+----------+-----+-------------------+\n",
            "\n"
          ]
        }
      ]
    },
    {
      "cell_type": "code",
      "source": [
        "# 9.List the states which has more dishes from each region.\n",
        "\n",
        "df9=df.select('state','region').groupBy('state','region').count()\n",
        "df9.select('state','region','count').filter(col('count')==df9.agg({'count':'max'}).collect()[0][0]).show()"
      ],
      "metadata": {
        "colab": {
          "base_uri": "https://localhost:8080/"
        },
        "id": "2nr0OkN5MJjE",
        "outputId": "b1dda9c1-6ec9-48f9-a1ef-5738041ebf27"
      },
      "execution_count": 24,
      "outputs": [
        {
          "output_type": "stream",
          "name": "stdout",
          "text": [
            "+-------+------+-----+\n",
            "|  state|region|count|\n",
            "+-------+------+-----+\n",
            "|Gujarat|  West|   35|\n",
            "+-------+------+-----+\n",
            "\n"
          ]
        }
      ]
    }
  ]
}