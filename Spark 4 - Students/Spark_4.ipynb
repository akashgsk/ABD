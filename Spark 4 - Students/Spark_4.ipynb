{
  "nbformat": 4,
  "nbformat_minor": 0,
  "metadata": {
    "colab": {
      "provenance": []
    },
    "kernelspec": {
      "name": "python3",
      "display_name": "Python 3"
    },
    "language_info": {
      "name": "python"
    }
  },
  "cells": [
    {
      "cell_type": "code",
      "execution_count": 1,
      "metadata": {
        "colab": {
          "base_uri": "https://localhost:8080/"
        },
        "id": "B8EMRjtakCIA",
        "outputId": "8adef0e1-5dd9-4bf9-fddd-32b098ff3ccf"
      },
      "outputs": [
        {
          "output_type": "stream",
          "name": "stdout",
          "text": [
            "Collecting pyspark\n",
            "  Downloading pyspark-3.5.0.tar.gz (316.9 MB)\n",
            "\u001b[2K     \u001b[90m━━━━━━━━━━━━━━━━━━━━━━━━━━━━━━━━━━━━━━━━\u001b[0m \u001b[32m316.9/316.9 MB\u001b[0m \u001b[31m3.5 MB/s\u001b[0m eta \u001b[36m0:00:00\u001b[0m\n",
            "\u001b[?25h  Preparing metadata (setup.py) ... \u001b[?25l\u001b[?25hdone\n",
            "Requirement already satisfied: py4j==0.10.9.7 in /usr/local/lib/python3.10/dist-packages (from pyspark) (0.10.9.7)\n",
            "Building wheels for collected packages: pyspark\n",
            "  Building wheel for pyspark (setup.py) ... \u001b[?25l\u001b[?25hdone\n",
            "  Created wheel for pyspark: filename=pyspark-3.5.0-py2.py3-none-any.whl size=317425344 sha256=77af30631da5b9800fdc9eae6078d58aa321416bf42ca795b0062cbad3642074\n",
            "  Stored in directory: /root/.cache/pip/wheels/41/4e/10/c2cf2467f71c678cfc8a6b9ac9241e5e44a01940da8fbb17fc\n",
            "Successfully built pyspark\n",
            "Installing collected packages: pyspark\n",
            "Successfully installed pyspark-3.5.0\n"
          ]
        }
      ],
      "source": [
        "!pip install pyspark"
      ]
    },
    {
      "cell_type": "code",
      "source": [
        "import pyspark\n",
        "from pyspark.sql import SparkSession\n",
        "from pyspark.sql.window import Window\n",
        "spark=SparkSession.builder.appName('Students').getOrCreate()"
      ],
      "metadata": {
        "id": "nnEr8_nEkJkW"
      },
      "execution_count": 2,
      "outputs": []
    },
    {
      "cell_type": "code",
      "source": [
        "from pyspark.sql.functions import *\n",
        "from pyspark.sql.types import *"
      ],
      "metadata": {
        "id": "4fx2IyDxkebN"
      },
      "execution_count": 3,
      "outputs": []
    },
    {
      "cell_type": "code",
      "source": [
        "df=spark.read.csv('students.csv',header=True,inferSchema=True)\n",
        "df.show()"
      ],
      "metadata": {
        "colab": {
          "base_uri": "https://localhost:8080/"
        },
        "id": "hui7aThOkh3w",
        "outputId": "4d072807-d29b-4a5c-ccbc-e196d0b86df3"
      },
      "execution_count": 5,
      "outputs": [
        {
          "output_type": "stream",
          "name": "stdout",
          "text": [
            "+------+--------------+---------------------------+------------+-----------------------+----------+-------------+-------------+\n",
            "|gender|race/ethnicity|parental level of education|       lunch|test preparation course|math score|reading score|writing score|\n",
            "+------+--------------+---------------------------+------------+-----------------------+----------+-------------+-------------+\n",
            "|female|       group B|          bachelor's degree|    standard|                   none|        72|           72|           74|\n",
            "|female|       group C|               some college|    standard|              completed|        69|           90|           88|\n",
            "|female|       group B|            master's degree|    standard|                   none|        90|           95|           93|\n",
            "|  male|       group A|         associate's degree|free/reduced|                   none|        47|           57|           44|\n",
            "|  male|       group C|               some college|    standard|                   none|        76|           78|           75|\n",
            "|female|       group B|         associate's degree|    standard|                   none|        71|           83|           78|\n",
            "|female|       group B|               some college|    standard|              completed|        88|           95|           92|\n",
            "|  male|       group B|               some college|free/reduced|                   none|        40|           43|           39|\n",
            "|  male|       group D|                high school|free/reduced|              completed|        64|           64|           67|\n",
            "|female|       group B|                high school|free/reduced|                   none|        38|           60|           50|\n",
            "|  male|       group C|         associate's degree|    standard|                   none|        58|           54|           52|\n",
            "|  male|       group D|         associate's degree|    standard|                   none|        40|           52|           43|\n",
            "|female|       group B|                high school|    standard|                   none|        65|           81|           73|\n",
            "|  male|       group A|               some college|    standard|              completed|        78|           72|           70|\n",
            "|female|       group A|            master's degree|    standard|                   none|        50|           53|           58|\n",
            "|female|       group C|           some high school|    standard|                   none|        69|           75|           78|\n",
            "|  male|       group C|                high school|    standard|                   none|        88|           89|           86|\n",
            "|female|       group B|           some high school|free/reduced|                   none|        18|           32|           28|\n",
            "|  male|       group C|            master's degree|free/reduced|              completed|        46|           42|           46|\n",
            "|female|       group C|         associate's degree|free/reduced|                   none|        54|           58|           61|\n",
            "+------+--------------+---------------------------+------------+-----------------------+----------+-------------+-------------+\n",
            "only showing top 20 rows\n",
            "\n"
          ]
        }
      ]
    },
    {
      "cell_type": "code",
      "source": [
        " # 1. Number of male and female students\n",
        "df1 = df.select(col('gender')).groupBy('gender').count().show()\n",
        "df1"
      ],
      "metadata": {
        "colab": {
          "base_uri": "https://localhost:8080/"
        },
        "id": "rWeNxu8XR-Yy",
        "outputId": "599b4217-7a3f-42a4-8eca-72da27fab3b6"
      },
      "execution_count": 12,
      "outputs": [
        {
          "output_type": "stream",
          "name": "stdout",
          "text": [
            "+------+-----+\n",
            "|gender|count|\n",
            "+------+-----+\n",
            "|female|  518|\n",
            "|  male|  482|\n",
            "+------+-----+\n",
            "\n"
          ]
        }
      ]
    },
    {
      "cell_type": "code",
      "source": [
        "# 2. List different 'race/ethnicity'\n",
        "df2 = df.select(col('race/ethnicity')).distinct().show()\n",
        "df2"
      ],
      "metadata": {
        "colab": {
          "base_uri": "https://localhost:8080/"
        },
        "id": "QvfP1gcPxgBr",
        "outputId": "d276cb41-3428-41d9-869b-98758ea97cee"
      },
      "execution_count": 13,
      "outputs": [
        {
          "output_type": "stream",
          "name": "stdout",
          "text": [
            "+--------------+\n",
            "|race/ethnicity|\n",
            "+--------------+\n",
            "|       group B|\n",
            "|       group C|\n",
            "|       group D|\n",
            "|       group A|\n",
            "|       group E|\n",
            "+--------------+\n",
            "\n"
          ]
        }
      ]
    },
    {
      "cell_type": "code",
      "source": [
        "# 3. What are different 'parental level of education'?\n",
        "df3 = df.select(col('parental level of education')).distinct().show()\n",
        "df3"
      ],
      "metadata": {
        "colab": {
          "base_uri": "https://localhost:8080/"
        },
        "id": "6rmpmzVWx-6Q",
        "outputId": "afd12568-8aca-4a5e-8bdf-dc4390cf048a"
      },
      "execution_count": 15,
      "outputs": [
        {
          "output_type": "stream",
          "name": "stdout",
          "text": [
            "+---------------------------+\n",
            "|parental level of education|\n",
            "+---------------------------+\n",
            "|           some high school|\n",
            "|         associate's degree|\n",
            "|                high school|\n",
            "|          bachelor's degree|\n",
            "|            master's degree|\n",
            "|               some college|\n",
            "+---------------------------+\n",
            "\n"
          ]
        }
      ]
    },
    {
      "cell_type": "code",
      "source": [
        "# 4. How many female students scored more than 79 marks in math, whose parental level of education is 'high school'?\n",
        "df4 = df.select('gender').where(col('gender')=='female').where(col('math score')>79).where(col('parental level of education')=='high school').count()\n",
        "df4"
      ],
      "metadata": {
        "colab": {
          "base_uri": "https://localhost:8080/"
        },
        "id": "PfqPl7ChyFnh",
        "outputId": "de0d3ed4-bde3-4faf-fefa-02d2ea44a843"
      },
      "execution_count": 16,
      "outputs": [
        {
          "output_type": "execute_result",
          "data": {
            "text/plain": [
              "5"
            ]
          },
          "metadata": {},
          "execution_count": 16
        }
      ]
    },
    {
      "cell_type": "code",
      "source": [
        "# 5. Check whether average maths score of male or female students are high?\n",
        "female=df.filter(col('gender')=='female').selectExpr(\"avg(`math score`)\").collect()[0][0]\n",
        "male=df.filter(col('gender')=='male').selectExpr(\"avg(`math score`)\").collect()[0][0]\n",
        "if female>male:\n",
        "  print(\"Female average is HIGH : \",female)\n",
        "else:\n",
        "  print(\"Male average is HIGH : \",male)"
      ],
      "metadata": {
        "colab": {
          "base_uri": "https://localhost:8080/"
        },
        "id": "un4jkuosyNPg",
        "outputId": "b7b1c3b0-1989-4d44-f5e6-5e32e381757c"
      },
      "execution_count": 17,
      "outputs": [
        {
          "output_type": "stream",
          "name": "stdout",
          "text": [
            "Male average is HIGH :  68.72821576763485\n"
          ]
        }
      ]
    },
    {
      "cell_type": "code",
      "source": [
        "# 6. What is average reading score of male and female students?\n",
        "male=df.filter(col('gender')=='male').selectExpr(\"avg(`reading score`)\").collect()[0][0]\n",
        "female=df.filter(col('gender')=='female').selectExpr(\"avg(`reading score`)\").collect()[0][0]\n",
        "print(\"Average reading score of Male students : \",male)\n",
        "print(\"Average reading score of Female students : \",female)"
      ],
      "metadata": {
        "colab": {
          "base_uri": "https://localhost:8080/"
        },
        "id": "5KktQu7UykGN",
        "outputId": "417f898a-972a-4ada-c5aa-58cac89d5318"
      },
      "execution_count": 19,
      "outputs": [
        {
          "output_type": "stream",
          "name": "stdout",
          "text": [
            "Average reading score of Male students :  65.47302904564316\n",
            "Average reading score of Female students :  72.60810810810811\n"
          ]
        }
      ]
    },
    {
      "cell_type": "code",
      "source": [
        "# 7. Whether students score depends upon 'parental level of education'? Justify your answer.\n",
        "import matplotlib.pyplot as plt\n",
        "import pandas as pd\n",
        "score=df.select(col('parental level of education'),col('math score')).groupBy('parental level of education').mean()\n",
        "scores=score.toPandas()\n",
        "scores.plot(x='parental level of education',kind='bar', figsize=(10, 6))\n",
        "plt.title(\"Average Scores by Parental Level of Education\")\n",
        "plt.xlabel(\"Parental Level of Education\")\n",
        "plt.ylabel(\"Average Score\")\n",
        "plt.xticks(rotation=45)\n",
        "plt.legend(['Avg[Math Score]'])\n",
        "plt.show()"
      ],
      "metadata": {
        "colab": {
          "base_uri": "https://localhost:8080/",
          "height": 652
        },
        "id": "T1XvA1s-zAXl",
        "outputId": "de3a9792-fe2c-45a9-c7f8-a3e47dc4a77c"
      },
      "execution_count": 25,
      "outputs": [
        {
          "output_type": "display_data",
          "data": {
            "text/plain": [
              "<Figure size 1000x600 with 1 Axes>"
            ],
            "image/png": "[encoded data removed]"
          },
          "metadata": {}
        }
      ]
    },
    {
      "cell_type": "code",
      "source": [
        "# 8. List the records where 'test preparation course' is 'none' and scored more than 70 in maths\n",
        "df8 = df.filter(col('test preparation course')=='none').filter(col('math score')>70).show()\n",
        "df8"
      ],
      "metadata": {
        "colab": {
          "base_uri": "https://localhost:8080/"
        },
        "id": "YHV3PkW2zl5e",
        "outputId": "c1ec800b-1d91-4702-e61b-33c53b8e4ddc"
      },
      "execution_count": 26,
      "outputs": [
        {
          "output_type": "stream",
          "name": "stdout",
          "text": [
            "+------+--------------+---------------------------+------------+-----------------------+----------+-------------+-------------+\n",
            "|gender|race/ethnicity|parental level of education|       lunch|test preparation course|math score|reading score|writing score|\n",
            "+------+--------------+---------------------------+------------+-----------------------+----------+-------------+-------------+\n",
            "|female|       group B|          bachelor's degree|    standard|                   none|        72|           72|           74|\n",
            "|female|       group B|            master's degree|    standard|                   none|        90|           95|           93|\n",
            "|  male|       group C|               some college|    standard|                   none|        76|           78|           75|\n",
            "|female|       group B|         associate's degree|    standard|                   none|        71|           83|           78|\n",
            "|  male|       group C|                high school|    standard|                   none|        88|           89|           86|\n",
            "|  male|       group A|            master's degree|free/reduced|                   none|        73|           74|           72|\n",
            "|  male|       group E|               some college|    standard|                   none|        97|           87|           82|\n",
            "|female|       group D|         associate's degree|    standard|                   none|        74|           81|           83|\n",
            "|  male|       group D|                high school|    standard|                   none|        88|           78|           75|\n",
            "|  male|       group E|         associate's degree|    standard|                   none|        72|           64|           63|\n",
            "|female|       group C|               some college|    standard|                   none|        73|           80|           82|\n",
            "|female|       group C|               some college|free/reduced|                   none|        76|           83|           88|\n",
            "|female|       group D|         associate's degree|    standard|                   none|        71|           71|           74|\n",
            "|female|       group D|           some high school|    standard|                   none|        73|           86|           82|\n",
            "|  male|       group C|                high school|    standard|                   none|        71|           79|           71|\n",
            "|female|       group B|               some college|    standard|                   none|        79|           86|           92|\n",
            "|  male|       group B|               some college|    standard|                   none|        79|           67|           67|\n",
            "|female|       group D|         associate's degree|    standard|                   none|        85|           91|           89|\n",
            "|female|       group D|            master's degree|    standard|                   none|        87|          100|          100|\n",
            "|  male|       group C|                high school|    standard|                   none|        84|           77|           74|\n",
            "+------+--------------+---------------------------+------------+-----------------------+----------+-------------+-------------+\n",
            "only showing top 20 rows\n",
            "\n"
          ]
        }
      ]
    }
  ]
}